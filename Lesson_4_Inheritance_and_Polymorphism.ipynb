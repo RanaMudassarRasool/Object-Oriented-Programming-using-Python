{
  "nbformat": 4,
  "nbformat_minor": 0,
  "metadata": {
    "colab": {
      "provenance": [],
      "authorship_tag": "ABX9TyNsghcxt7+qYKtW/z3SB6UK",
      "include_colab_link": true
    },
    "kernelspec": {
      "name": "python3",
      "display_name": "Python 3"
    },
    "language_info": {
      "name": "python"
    }
  },
  "cells": [
    {
      "cell_type": "markdown",
      "metadata": {
        "id": "view-in-github",
        "colab_type": "text"
      },
      "source": [
        "<a href=\"https://colab.research.google.com/github/ranamaddy/Object-Oriented-Programming-using-Python/blob/main/Lesson_4_Inheritance_and_Polymorphism.ipynb\" target=\"_parent\"><img src=\"https://colab.research.google.com/assets/colab-badge.svg\" alt=\"Open In Colab\"/></a>"
      ]
    },
    {
      "cell_type": "markdown",
      "source": [
        "# Lesson 4: Inheritance and Polymorphism\n",
        "\n",
        "- Understanding inheritance and its types in Python\n",
        "- Overriding methods and attributes in inherited classes\n",
        "- Understanding polymorphism and using it in Python\n",
        "- Implementing multiple inheritance and method resolution order (MRO)"
      ],
      "metadata": {
        "id": "CpsHMH1p6SGU"
      }
    },
    {
      "cell_type": "markdown",
      "source": [
        "Inheritance and polymorphism are important concepts in object-oriented programming (OOP) that allow for code reuse and flexibility in designing classes and objects. Inheritance allows a class to inherit properties and methods from another class, while polymorphism enables objects of different classes to be used interchangeably.\n",
        "\n",
        "Topics covered in this lesson include:\n",
        "\n",
        "- Inheritance: Understanding how one class can inherit attributes and methods from another class, and the different types of inheritance such as single inheritance, multiple inheritance, and multi-level inheritance.\n",
        "\n",
        "- Overriding and super(): Overriding methods in a subclass to provide customized behavior, and using the super() function to call overridden methods from the parent class.\n",
        "\n",
        "- Polymorphism: Understanding how objects of different classes can be treated as if they were of the same class, allowing for flexibility and extensibility in designing classes and objects.\n",
        "\n",
        "- Abstract classes and interfaces: Using abstract classes and interfaces to define common behavior that must be implemented by subclasses, and understanding the difference between abstract classes and regular classes.\n",
        "\n",
        "- Method resolution order (MRO): Understanding how Python resolves method calls in case of multiple inheritance, and using the C3 linearization algorithm to determine the order of method resolution.\n",
        "\n",
        "- Method overloading and method overriding: Understanding the concepts of method overloading, where multiple methods with the same name but different parameters are defined in a class, and method overriding, where a subclass provides a new implementation for a method already defined in the parent class.\n",
        "\n",
        "- Polymorphic methods: Creating methods that can accept different types of objects as arguments, allowing for flexibility and interoperability in code.\n",
        "\n",
        "- Diamond problem: Understanding the issue of the diamond problem in multiple inheritance and how it can be resolved using method resolution order and **super()** function.\n",
        "\n",
        "- Using inheritance and polymorphism in real-world scenarios: Applying the concepts of inheritance and polymorphism in practical examples, such as modeling real-world entities like vehicles, animals, and employees using OOP principles.\n",
        "\n",
        "- Best practices for using inheritance and polymorphism: Following best practices when designing classes and objects that use inheritance and polymorphism, including encapsulation, proper use of access modifiers, and designing for extensibility and flexibility in code.\n",
        "\n",
        "Throughout this lesson, you will learn how to effectively use inheritance and polymorphism to create well-organized, reusable, and extensible code in your Python programs"
      ],
      "metadata": {
        "id": "8tVarNeH6QES"
      }
    },
    {
      "cell_type": "markdown",
      "source": [
        "# Understanding inheritance and its types in Python\n",
        "Inheritance is a powerful feature in object-oriented programming (OOP) that allows a class to inherit attributes and methods from another class, known as the parent or base class. This allows for code reuse and promotes code organization and maintenance. In Python, there are five types of inheritance:\n",
        "\n",
        "- **Single Inheritance**: In this type of inheritance, a class inherits from a single parent class. The child class inherits all the attributes and methods of the parent class, and can also override or extend them.\n",
        "\n",
        "- **Multiple Inheritance:** In this type of inheritance, a class can inherit from more than one parent class. The child class inherits attributes and methods from all the parent classes, and can override or extend them. However, multiple inheritance can lead to method name conflicts and requires careful handling.\n",
        "\n",
        "- **Multi-level Inheritance**: In this type of inheritance, a class inherits from a parent class, which in turn inherits from another parent class. This creates a hierarchical chain of inheritance, allowing for code reuse and organization.\n",
        "\n",
        "- **Hierarchical Inheritance**: In this type of inheritance, multiple child classes inherit from a single parent class. This allows for code reuse and sharing of attributes and methods among related classes.\n",
        "\n",
        "- **Hybrid Inheritance**: This is a combination of two or more types of inheritance. For example, a class can inherit from multiple parent classes and also have child classes that inherit from it.\n",
        "\n",
        "Understanding the different types of inheritance in Python is important for designing and implementing efficient and organized classes and objects in your OOP programs. Proper use of inheritance can result in clean, maintainable, and extensible code, while improper use can lead to method name conflicts, code duplication, and other issues."
      ],
      "metadata": {
        "id": "w59rUUxP6tH8"
      }
    },
    {
      "cell_type": "markdown",
      "source": [
        "**Syntax of Inheritance in Python**\n",
        "\n",
        "In Python, the syntax for inheriting from a parent class in a child class is as follows:"
      ],
      "metadata": {
        "id": "cRYB5hUa7K1W"
      }
    },
    {
      "cell_type": "code",
      "execution_count": null,
      "metadata": {
        "id": "PW-iLWAU5_I4"
      },
      "outputs": [],
      "source": [
        "class ParentClass:\n",
        "    # Parent class attributes and methods\n",
        "\n",
        "class ChildClass(ParentClass):\n",
        "    # Child class attributes and methods\n"
      ]
    },
    {
      "cell_type": "markdown",
      "source": [
        "The child class is created by specifying the parent class name in parentheses after the child class name. This indicates that the child class inherits from the parent class. The child class then has access to all the attributes and methods of the parent class, unless they are overridden or extended in the child class.\n",
        "\n",
        "To override a method from the parent class in the child class, you can define a method with the same name in the child class. This allows the child class to have its own implementation of the method, different from the parent class.\n",
        "\n",
        "To extend a method from the parent class in the child class, you can call the parent class method using the super() function. This allows the child class to invoke the method from the parent class and add additional functionality to it.\n",
        "\n",
        "It's important to note that the order in which multiple parent classes are specified in the child class matters. Python uses Method Resolution Order (MRO) to determine which method to call when there are method name conflicts in multiple inheritance. The MRO is determined by the order of inheritance, which can be changed using the super() function. Proper understanding of MRO is crucial when dealing with multiple inheritance in Python"
      ],
      "metadata": {
        "id": "fjqbwKUZ7UDi"
      }
    },
    {
      "cell_type": "code",
      "source": [
        "# Parent class\n",
        "class Animal:\n",
        "    def __init__(self, name, species):\n",
        "        self.name = name\n",
        "        self.species = species\n",
        "\n",
        "    def make_sound(self):\n",
        "        print(\"The animal makes a sound.\")\n",
        "\n",
        "# Child class inheriting from Animal class\n",
        "class Dog(Animal):\n",
        "    def __init__(self, name, breed):\n",
        "        super().__init__(name, species=\"Dog\")\n",
        "        self.breed = breed\n",
        "\n",
        "    def make_sound(self):\n",
        "        print(\"The dog barks.\")\n",
        "\n",
        "    def play_fetch(self):\n",
        "        print(\"The dog plays fetch.\")\n",
        "\n",
        "# Child class inheriting from Animal class\n",
        "class Cat(Animal):\n",
        "    def __init__(self, name, color):\n",
        "        super().__init__(name, species=\"Cat\")\n",
        "        self.color = color\n",
        "\n",
        "    def make_sound(self):\n",
        "        print(\"The cat meows.\")\n",
        "\n",
        "    def chase_mouse(self):\n",
        "        print(\"The cat chases a mouse.\")\n",
        "\n",
        "# Creating objects of child classes\n",
        "dog1 = Dog(\"Buddy\", \"Labrador\")\n",
        "cat1 = Cat(\"Whiskers\", \"Orange\")\n",
        "\n",
        "# Accessing attributes and methods of parent and child classes\n",
        "print(\"Dog name:\", dog1.name)\n",
        "print(\"Dog breed:\", dog1.breed)\n",
        "dog1.make_sound()\n",
        "dog1.play_fetch()\n",
        "\n",
        "print(\"Cat name:\", cat1.name)\n",
        "print(\"Cat color:\", cat1.color)\n",
        "cat1.make_sound()\n",
        "cat1.chase_mouse()\n"
      ],
      "metadata": {
        "colab": {
          "base_uri": "https://localhost:8080/"
        },
        "id": "ePzOTLy-7hA8",
        "outputId": "b14cde74-092b-47d9-d810-4f3af80b7dea"
      },
      "execution_count": 1,
      "outputs": [
        {
          "output_type": "stream",
          "name": "stdout",
          "text": [
            "Dog name: Buddy\n",
            "Dog breed: Labrador\n",
            "The dog barks.\n",
            "The dog plays fetch.\n",
            "Cat name: Whiskers\n",
            "Cat color: Orange\n",
            "The cat meows.\n",
            "The cat chases a mouse.\n"
          ]
        }
      ]
    },
    {
      "cell_type": "markdown",
      "source": [
        "**In this example**, we have a parent class Animal with two child classes Dog and Cat that inherit from it. The child classes inherit the attributes and methods of the parent class, and can also have their own attributes and methods. We create objects of the child classes and access their attributes and methods, including the overridden methods in the child classes."
      ],
      "metadata": {
        "id": "YFxVwT7X7pEr"
      }
    },
    {
      "cell_type": "code",
      "source": [
        "class Employee:\n",
        "    def __init__(self, name, employee_id):\n",
        "        self.name = name\n",
        "        self.employee_id = employee_id\n",
        "\n",
        "    def display_info(self):\n",
        "        # Method to display employee information\n",
        "        print(\"Name:\", self.name)\n",
        "        print(\"Employee ID:\", self.employee_id)\n",
        "\n",
        "    def calculate_salary(self):\n",
        "        # Method to calculate salary (placeholder)\n",
        "        raise NotImplementedError(\"calculate_salary() method not implemented\")\n",
        "\n",
        "    def manage_leave(self):\n",
        "        # Method to manage leave (placeholder)\n",
        "        raise NotImplementedError(\"manage_leave() method not implemented\")\n",
        "\n",
        "\n",
        "class RegularEmployee(Employee):\n",
        "    def __init__(self, name, employee_id, base_salary):\n",
        "        super().__init__(name, employee_id)\n",
        "        self.base_salary = base_salary\n",
        "\n",
        "    def calculate_salary(self):\n",
        "        # Method to calculate salary for regular employees\n",
        "        return self.base_salary\n",
        "\n",
        "    def manage_leave(self):\n",
        "        # Method to manage leave for regular employees\n",
        "        print(\"Regular employees can apply for leaves through the HR portal.\")\n",
        "\n",
        "\n",
        "class Manager(Employee):\n",
        "    def __init__(self, name, employee_id, base_salary, bonus_percentage):\n",
        "        super().__init__(name, employee_id)\n",
        "        self.base_salary = base_salary\n",
        "        self.bonus_percentage = bonus_percentage\n",
        "\n",
        "    def calculate_salary(self):\n",
        "        # Method to calculate salary for managers\n",
        "        return self.base_salary + (self.base_salary * self.bonus_percentage / 100)\n",
        "\n",
        "    def manage_leave(self):\n",
        "        # Method to manage leave for managers\n",
        "        print(\"Managers can approve leaves for their team members through the HR portal.\")\n",
        "\n",
        "\n",
        "class Executive(Employee):\n",
        "    def __init__(self, name, employee_id, base_salary, stock_options):\n",
        "        super().__init__(name, employee_id)\n",
        "        self.base_salary = base_salary\n",
        "        self.stock_options = stock_options\n",
        "\n",
        "    def calculate_salary(self):\n",
        "        # Method to calculate salary for executives\n",
        "        return self.base_salary + self.stock_options\n",
        "\n",
        "    def manage_leave(self):\n",
        "        # Method to manage leave for executives\n",
        "        print(\"Executives have unlimited leaves as per company policy.\")\n",
        "\n",
        "\n",
        "# Create objects of the child classes\n",
        "regular_employee = RegularEmployee(\"John\", \"E001\", 5000)\n",
        "manager = Manager(\"Jane\", \"E002\", 7000, 10)\n",
        "executive = Executive(\"Alice\", \"E003\", 10000, 5000)\n",
        "\n",
        "# Display information and calculate salary for each employee\n",
        "regular_employee.display_info()\n",
        "print(\"Salary:\", regular_employee.calculate_salary())\n",
        "regular_employee.manage_leave()\n",
        "\n",
        "manager.display_info()\n",
        "print(\"Salary:\", manager.calculate_salary())\n",
        "manager.manage_leave()\n",
        "\n",
        "executive.display_info()\n",
        "print(\"Salary:\", executive.calculate_salary())\n",
        "executive.manage_leave()\n"
      ],
      "metadata": {
        "colab": {
          "base_uri": "https://localhost:8080/"
        },
        "id": "x8YsrfV57ssm",
        "outputId": "7e66be97-fe67-4485-f8f6-2432880ee0d6"
      },
      "execution_count": 2,
      "outputs": [
        {
          "output_type": "stream",
          "name": "stdout",
          "text": [
            "Name: John\n",
            "Employee ID: E001\n",
            "Salary: 5000\n",
            "Regular employees can apply for leaves through the HR portal.\n",
            "Name: Jane\n",
            "Employee ID: E002\n",
            "Salary: 7700.0\n",
            "Managers can approve leaves for their team members through the HR portal.\n",
            "Name: Alice\n",
            "Employee ID: E003\n",
            "Salary: 15000\n",
            "Executives have unlimited leaves as per company policy.\n"
          ]
        }
      ]
    },
    {
      "cell_type": "markdown",
      "source": [
        "**Example 1 **\n",
        "Create a parent class \"Vehicle\" with attributes such as \"make\" (make of the vehicle), \"model\" (model of the vehicle), and \"year\" (year of manufacture of the vehicle). The parent class should have a method \"display_info()\" that displays the information of the vehicle.\n",
        "\n",
        "Create two child classes \"Car\" and \"Motorcycle\" that inherit from the \"Vehicle\" parent class. The \"Car\" class should have an additional attribute \"num_doors\" (number of doors in the car) and override the \"display_info()\" method to display the information of the car along with the number of doors. The \"Motorcycle\" class should have an additional attribute \"num_wheels\" (number of wheels in the motorcycle) and override the \"display_info()\" method to display the information of the motorcycle along with the number of wheels.\n",
        "\n",
        "Create objects of the \"Car\" and \"Motorcycle\" classes, set their attributes, and call their \"display_info()\" methods to display the information of the vehicles along with their specific attributes."
      ],
      "metadata": {
        "id": "S8ewiIP6-fvH"
      }
    },
    {
      "cell_type": "code",
      "source": [
        "class Vehicle:\n",
        "    def __init__(self, make, model, year):\n",
        "        self.make = make\n",
        "        self.model = model\n",
        "        self.year = year\n",
        "\n",
        "    def display_info(self):\n",
        "        print(\"Make:\", self.make)\n",
        "        print(\"Model:\", self.model)\n",
        "        print(\"Year:\", self.year)\n",
        "\n",
        "\n",
        "class Car(Vehicle):\n",
        "    def __init__(self, make, model, year, num_doors):\n",
        "        super().__init__(make, model, year)\n",
        "        self.num_doors = num_doors\n",
        "\n",
        "    def display_info(self):\n",
        "        super().display_info()\n",
        "        print(\"Number of Doors:\", self.num_doors)\n",
        "\n",
        "\n",
        "class Motorcycle(Vehicle):\n",
        "    def __init__(self, make, model, year, num_wheels):\n",
        "        super().__init__(make, model, year)\n",
        "        self.num_wheels = num_wheels\n",
        "\n",
        "    def display_info(self):\n",
        "        super().display_info()\n",
        "        print(\"Number of Wheels:\", self.num_wheels)\n",
        "\n",
        "\n",
        "car = Car(\"Toyota\", \"Camry\", 2022, 4)\n",
        "car.display_info()\n",
        "\n",
        "motorcycle = Motorcycle(\"Harley-Davidson\", \"Sportster\", 2021, 2)\n",
        "motorcycle.display_info()\n"
      ],
      "metadata": {
        "id": "Xdh8OEfL-Oxd"
      },
      "execution_count": null,
      "outputs": []
    },
    {
      "cell_type": "code",
      "source": [
        "class Vehicle:\n",
        "    def __init__(self, make, model, year):\n",
        "        self.make = make\n",
        "        self.model = model\n",
        "        self.year = year\n",
        "\n",
        "    def display_info(self):\n",
        "        print(f\"Make: {self.make}\")\n",
        "        print(f\"Model: {self.model}\")\n",
        "        print(f\"Year: {self.year}\")\n",
        "\n",
        "class Car(Vehicle):\n",
        "    def __init__(self, make, model, year, num_doors):\n",
        "        super().__init__(make, model, year)\n",
        "        self.num_doors = num_doors\n",
        "\n",
        "    def display_info(self):\n",
        "        super().display_info()\n",
        "        print(f\"Number of Doors: {self.num_doors}\")\n",
        "\n",
        "class Motorcycle(Vehicle):\n",
        "    def __init__(self, make, model, year, num_wheels):\n",
        "        super().__init__(make, model, year)\n",
        "        self.num_wheels = num_wheels\n",
        "\n",
        "    def display_info(self):\n",
        "        super().display_info()\n",
        "        print(f\"Number of Wheels: {self.num_wheels}\")\n",
        "\n",
        "# Create objects of Car and Motorcycle\n",
        "car = Car(\"Toyota\", \"Camry\", 2020, 4)\n",
        "motorcycle = Motorcycle(\"Harley Davidson\", \"Sportster\", 2019, 2)\n",
        "\n",
        "# Set attributes of Car and Motorcycle\n",
        "car.num_doors = 4\n",
        "motorcycle.num_wheels = 2\n",
        "\n",
        "# Call display_info() method to display information of Car and Motorcycle\n",
        "print(\"Car Information:\")\n",
        "car.display_info()\n",
        "print(\"\\nMotorcycle Information:\")\n",
        "motorcycle.display_info()\n"
      ],
      "metadata": {
        "colab": {
          "base_uri": "https://localhost:8080/"
        },
        "id": "0atg6xHK-pky",
        "outputId": "ad34e05b-61cf-4b88-8ccc-614d6425aadf"
      },
      "execution_count": 3,
      "outputs": [
        {
          "output_type": "stream",
          "name": "stdout",
          "text": [
            "Car Information:\n",
            "Make: Toyota\n",
            "Model: Camry\n",
            "Year: 2020\n",
            "Number of Doors: 4\n",
            "\n",
            "Motorcycle Information:\n",
            "Make: Harley Davidson\n",
            "Model: Sportster\n",
            "Year: 2019\n",
            "Number of Wheels: 2\n"
          ]
        }
      ]
    },
    {
      "cell_type": "markdown",
      "source": [
        "**Example 2** \n",
        "In this code, we have created a parent class \"Vehicle\" with attributes \"make\", \"model\", and \"year\", and a method \"display_info()\" that displays the information of the vehicle. We then created two child classes \"Car\" and \"Motorcycle\" that inherit from the \"Vehicle\" parent class. The \"Car\" class has an additional attribute \"num_doors\" and overrides the \"display_info()\" method to display the information of the car along with the number of doors. The \"Motorcycle\" class has an additional attribute \"num_wheels\" and overrides the \"display_info()\" method to display the information of the motorcycle along with the number of wheels. We then created objects of the \"Car\" and \"Motorcycle\" classes, set their attributes, and called their \"display_info()\" methods to display the information of the vehicles along with their specific attributes"
      ],
      "metadata": {
        "id": "-KBJxWjt-pP3"
      }
    },
    {
      "cell_type": "markdown",
      "source": [
        "\"Design a Bank Account system using inheritance where there is a parent class \"Account\" with common attributes such as \"account_number\", \"account_holder_name\", and \"balance\". The parent class has methods such as \"deposit()\" and \"withdraw()\" to handle deposits and withdrawals. Then, create child classes \"SavingsAccount\" and \"CheckingAccount\" that inherit from the \"Account\" parent class. The \"SavingsAccount\" class can have additional attributes such as \"interest_rate\" and \"minimum_balance\", along with methods for calculating interest and checking if the account balance falls below the minimum balance. The \"CheckingAccount\" class can have additional attributes such as \"transaction_limit\" and methods for tracking the number of transactions and checking if it exceeds the limit. Implement the functionality for depositing, withdrawing, calculating interest, and checking for minimum balance and transaction limit in the respective child classes.\""
      ],
      "metadata": {
        "id": "uoFiRb4a_FlY"
      }
    },
    {
      "cell_type": "code",
      "source": [
        "class Account:\n",
        "    def __init__(self, account_number, account_holder_name, balance):\n",
        "        self.account_number = account_number\n",
        "        self.account_holder_name = account_holder_name\n",
        "        self.balance = balance\n",
        "    \n",
        "    def deposit(self, amount):\n",
        "        self.balance += amount\n",
        "        print(\"Deposited: ${}\".format(amount))\n",
        "    \n",
        "    def withdraw(self, amount):\n",
        "        if self.balance >= amount:\n",
        "            self.balance -= amount\n",
        "            print(\"Withdrawn: ${}\".format(amount))\n",
        "        else:\n",
        "            print(\"Insufficient balance!\")\n",
        "    \n",
        "class SavingsAccount(Account):\n",
        "    def __init__(self, account_number, account_holder_name, balance, interest_rate, minimum_balance):\n",
        "        super().__init__(account_number, account_holder_name, balance)\n",
        "        self.interest_rate = interest_rate\n",
        "        self.minimum_balance = minimum_balance\n",
        "    \n",
        "    def calculate_interest(self):\n",
        "        interest = self.balance * (self.interest_rate / 100)\n",
        "        self.deposit(interest)\n",
        "    \n",
        "    def check_minimum_balance(self):\n",
        "        if self.balance < self.minimum_balance:\n",
        "            print(\"Account balance is below the minimum balance limit!\")\n",
        "    \n",
        "class CheckingAccount(Account):\n",
        "    def __init__(self, account_number, account_holder_name, balance, transaction_limit):\n",
        "        super().__init__(account_number, account_holder_name, balance)\n",
        "        self.transaction_limit = transaction_limit\n",
        "        self.transaction_count = 0\n",
        "    \n",
        "    def increment_transaction_count(self):\n",
        "        self.transaction_count += 1\n",
        "    \n",
        "    def check_transaction_limit(self):\n",
        "        if self.transaction_count >= self.transaction_limit:\n",
        "            print(\"Transaction limit exceeded!\")\n"
      ],
      "metadata": {
        "id": "3JrK-9Tl_LM5"
      },
      "execution_count": 5,
      "outputs": []
    },
    {
      "cell_type": "markdown",
      "source": [
        "# Overriding methods and attributes in inherited classes\n",
        "\n",
        "\n",
        "Overriding methods and attributes in inherited classes is aOverriding methods is a concept in object-oriented programming (OOP) where a child class provides its own implementation of a method that is already defined in its parent class. This allows the child class to customize the behavior of the method according to its specific requirements.\n",
        "\n",
        "When a child class overrides a method, the method in the child class takes precedence over the method in the parent class with the same name. This means that when an object of the child class calls the overridden method, the implementation in the child class will be executed, ignoring the implementation in the parent class.\n",
        "\n",
        "In Python, method overriding is achieved by defining a method with the same name in the child class as the one in the parent class. The method in the child class must have the same name, but it can have a different implementation, signature, or behavior compared to the method in the parent class.\n",
        "\n",
        "Method overriding is a powerful feature that allows child classes to customize and extend the behavior of inherited methods from the parent class, and it is commonly used in OOP to implement polymorphism and achieve code reusability.\n",
        "\n",
        " powerful feature of object-oriented programming. It allows child classes to provide their own implementation of methods or attributes inherited from the parent class. Here's an example in Pytho"
      ],
      "metadata": {
        "id": "LPIN9watfX7F"
      }
    },
    {
      "cell_type": "code",
      "source": [
        "class Animal:\n",
        "    def __init__(self, name, species):\n",
        "        self.name = name\n",
        "        self.species = species\n",
        "    \n",
        "    def make_sound(self):\n",
        "        print(\"The animal makes a sound.\")\n",
        "    \n",
        "    def display_info(self):\n",
        "        print(\"Name: {}\".format(self.name))\n",
        "        print(\"Species: {}\".format(self.species))\n",
        "\n",
        "class Dog(Animal):\n",
        "    def __init__(self, name, breed):\n",
        "        super().__init__(name, species=\"Dog\")\n",
        "        self.breed = breed\n",
        "    \n",
        "    def make_sound(self):\n",
        "        print(\"The dog barks.\")\n",
        "    \n",
        "    def display_info(self):\n",
        "        print(\"Name: {}\".format(self.name))\n",
        "        print(\"Species: {}\".format(self.species))\n",
        "        print(\"Breed: {}\".format(self.breed))\n",
        "\n",
        "class Cat(Animal):\n",
        "    def __init__(self, name, color):\n",
        "        super().__init__(name, species=\"Cat\")\n",
        "        self.color = color\n",
        "    \n",
        "    def make_sound(self):\n",
        "        print(\"The cat meows.\")\n",
        "    \n",
        "    def display_info(self):\n",
        "        print(\"Name: {}\".format(self.name))\n",
        "        print(\"Species: {}\".format(self.species))\n",
        "        print(\"Color: {}\".format(self.color))\n",
        "\n",
        "# Creating objects of the classes\n",
        "animal1 = Animal(\"Generic Animal\", \"Unknown Species\")\n",
        "dog1 = Dog(\"Buddy\", \"Labrador\")\n",
        "cat1 = Cat(\"Whiskers\", \"Orange\")\n",
        "\n",
        "# Accessing attributes and methods of the objects\n",
        "animal1.display_info()\n",
        "animal1.make_sound()\n",
        "\n",
        "dog1.display_info()\n",
        "dog1.make_sound()\n",
        "\n",
        "cat1.display_info()\n",
        "cat1.make_sound()\n"
      ],
      "metadata": {
        "colab": {
          "base_uri": "https://localhost:8080/"
        },
        "id": "e9VYfn25f41J",
        "outputId": "c8752673-6650-4381-a170-d20ff3911e2e"
      },
      "execution_count": 1,
      "outputs": [
        {
          "output_type": "stream",
          "name": "stdout",
          "text": [
            "Name: Generic Animal\n",
            "Species: Unknown Species\n",
            "The animal makes a sound.\n",
            "Name: Buddy\n",
            "Species: Dog\n",
            "Breed: Labrador\n",
            "The dog barks.\n",
            "Name: Whiskers\n",
            "Species: Cat\n",
            "Color: Orange\n",
            "The cat meows.\n"
          ]
        }
      ]
    },
    {
      "cell_type": "markdown",
      "source": [
        "**In the example** above, we have a parent class \"Animal\" with two child classes \"Dog\" and \"Cat\" that inherit from it. Both child classes override the \"make_sound()\" method inherited from the parent class to provide their own implementation. Additionally, the child classes also override the \"display_info()\" method to include their specific attributes (e.g., \"breed\" for Dog and \"color\" for Cat) along with the attributes inherited from the parent class. This demonstrates how child classes can override methods and attributes of the parent class to customize their behavior based on their specific requirements.\n",
        "\n",
        "You can create objects of these classes and call their methods to see the overriding behavior in action, where the child classes Dog and Cat override the make_sound() method and the display_info() method of the parent class Animal to provide their own implementations."
      ],
      "metadata": {
        "id": "YEXHw9dPgLDZ"
      }
    },
    {
      "cell_type": "markdown",
      "source": [
        "**Program Statement:**\n",
        "\n",
        "A school management system has a base class Person with attributes such as name, age, and address, along with methods like display_info(). There are two child classes Student and Teacher that inherit from the Person class. The Student class overrides the display_info() method to display additional information like grade and roll number, while the Teacher class overrides the display_info() method to display information related to subjects taught and experience"
      ],
      "metadata": {
        "id": "KfDxDzpmgqSu"
      }
    },
    {
      "cell_type": "code",
      "source": [
        "class Person:\n",
        "    def __init__(self, name, age, address):\n",
        "        self.name = name\n",
        "        self.age = age\n",
        "        self.address = address\n",
        "    \n",
        "    def display_info(self):\n",
        "        print(\"Name: {}\".format(self.name))\n",
        "        print(\"Age: {}\".format(self.age))\n",
        "        print(\"Address: {}\".format(self.address))\n",
        "\n",
        "class Student(Person):\n",
        "    def __init__(self, name, age, address, grade, roll_number):\n",
        "        super().__init__(name, age, address)\n",
        "        self.grade = grade\n",
        "        self.roll_number = roll_number\n",
        "    \n",
        "    def display_info(self):\n",
        "        print(\"Name: {}\".format(self.name))\n",
        "        print(\"Age: {}\".format(self.age))\n",
        "        print(\"Address: {}\".format(self.address))\n",
        "        print(\"Grade: {}\".format(self.grade))\n",
        "        print(\"Roll Number: {}\".format(self.roll_number))\n",
        "\n",
        "class Teacher(Person):\n",
        "    def __init__(self, name, age, address, subjects, experience_years):\n",
        "        super().__init__(name, age, address)\n",
        "        self.subjects = subjects\n",
        "        self.experience_years = experience_years\n",
        "    \n",
        "    def display_info(self):\n",
        "        print(\"Name: {}\".format(self.name))\n",
        "        print(\"Age: {}\".format(self.age))\n",
        "        print(\"Address: {}\".format(self.address))\n",
        "        print(\"Subjects: {}\".format(self.subjects))\n",
        "        print(\"Experience (in years): {}\".format(self.experience_years))\n",
        "\n",
        "# Creating objects of the classes\n",
        "person1 = Person(\"John\", 35, \"1234 Elm Street\")\n",
        "student1 = Student(\"Alice\", 12, \"5678 Oak Avenue\", \"Grade 6\", \"Roll #101\")\n",
        "teacher1 = Teacher(\"Mr. Smith\", 45, \"7890 Maple Lane\", \"Math, Science\", 10)\n",
        "\n",
        "# Accessing attributes and methods of the objects\n",
        "person1.display_info()\n",
        "\n",
        "student1.display_info()\n",
        "\n",
        "teacher1.display_info()\n"
      ],
      "metadata": {
        "colab": {
          "base_uri": "https://localhost:8080/"
        },
        "id": "4asv3qBxgZSA",
        "outputId": "96a939e1-d269-4816-a786-1fe6b4ef73dd"
      },
      "execution_count": 2,
      "outputs": [
        {
          "output_type": "stream",
          "name": "stdout",
          "text": [
            "Name: John\n",
            "Age: 35\n",
            "Address: 1234 Elm Street\n",
            "Name: Alice\n",
            "Age: 12\n",
            "Address: 5678 Oak Avenue\n",
            "Grade: Grade 6\n",
            "Roll Number: Roll #101\n",
            "Name: Mr. Smith\n",
            "Age: 45\n",
            "Address: 7890 Maple Lane\n",
            "Subjects: Math, Science\n",
            "Experience (in years): 10\n"
          ]
        }
      ]
    },
    {
      "cell_type": "markdown",
      "source": [
        "**In this example**, the child classes Student and Teacher override the display_info() method of the parent class Person to provide their own implementations, displaying additional information that is specific to students and teachers."
      ],
      "metadata": {
        "id": "WC1b7fx7gzXA"
      }
    },
    {
      "cell_type": "markdown",
      "source": [
        "# Understanding polymorphism and using it in Python\n",
        "\n",
        "Polymorphism is a concept in object-oriented programming that allows objects of different classes to be treated as if they are of the same class, as long as they share a common interface or behavior. In other words, polymorphism allows objects of different classes to respond to the same method or attribute in a consistent and predictable manner.\n",
        "\n",
        "Polymorphism is a powerful feature of object-oriented programming that promotes code reusability and flexibility. It enables writing more generic and flexible code that can work with objects of different types, as long as they adhere to a common interface or behavior.\n",
        "\n",
        "In Python, polymorphism can be achieved through duck typing, which is a dynamic typing approach where the type of an object is determined at runtime based on its behavior, rather than its class or type declaration. Python does not require explicit declaration or implementation of interfaces, making it flexible and allowing objects of different classes to be used interchangeably.\n",
        "\n",
        "**Here's an example to illustrate the concept of polymorphism in Python:**"
      ],
      "metadata": {
        "id": "zhzXbkoBhBRH"
      }
    },
    {
      "cell_type": "code",
      "source": [
        "class Dog:\n",
        "    def sound(self):\n",
        "        print(\"Woof!\")\n",
        "        \n",
        "class Cat:\n",
        "    def sound(self):\n",
        "        print(\"Meow!\")\n",
        "\n",
        "class Cow:\n",
        "    def sound(self):\n",
        "        print(\"Moo!\")\n",
        "\n",
        "# Function that uses polymorphism\n",
        "def make_sound(animal):\n",
        "    animal.sound()\n",
        "\n",
        "# Creating objects of different classes\n",
        "dog = Dog()\n",
        "cat = Cat()\n",
        "cow = Cow()\n",
        "\n",
        "# Calling the make_sound() function with different objects\n",
        "make_sound(dog)  # Output: \"Woof!\"\n",
        "make_sound(cat)  # Output: \"Meow!\"\n",
        "make_sound(cow)  # Output: \"Moo!\"\n"
      ],
      "metadata": {
        "colab": {
          "base_uri": "https://localhost:8080/"
        },
        "id": "9eSNoRGEhLnM",
        "outputId": "b7fd01b2-c879-4e98-e5de-123d0427f962"
      },
      "execution_count": 3,
      "outputs": [
        {
          "output_type": "stream",
          "name": "stdout",
          "text": [
            "Woof!\n",
            "Meow!\n",
            "Moo!\n"
          ]
        }
      ]
    },
    {
      "cell_type": "markdown",
      "source": [
        "**In this example**, we have three different classes Dog, Cat, and Cow, each with its own implementation of the sound() method. The make_sound() function takes an animal object as an argument and calls its sound() method. This demonstrates polymorphism, as we can pass objects of different classes to the same function and they can respond to the same method call in a consistent and predictable manner, even though they are of different types."
      ],
      "metadata": {
        "id": "FnFOEn7NhZHt"
      }
    },
    {
      "cell_type": "markdown",
      "source": [
        "**Using polymorphism to perform arithmetic operations on different classes of objects**"
      ],
      "metadata": {
        "id": "0xG0CZ2Bhm7N"
      }
    },
    {
      "cell_type": "code",
      "source": [
        "class Circle:\n",
        "    def __init__(self, radius):\n",
        "        self.radius = radius\n",
        "    \n",
        "    def area(self):\n",
        "        return 3.14 * self.radius * self.radius\n",
        "\n",
        "class Rectangle:\n",
        "    def __init__(self, length, width):\n",
        "        self.length = length\n",
        "        self.width = width\n",
        "    \n",
        "    def area(self):\n",
        "        return self.length * self.width\n",
        "\n",
        "class Triangle:\n",
        "    def __init__(self, base, height):\n",
        "        self.base = base\n",
        "        self.height = height\n",
        "    \n",
        "    def area(self):\n",
        "        return 0.5 * self.base * self.height\n",
        "\n",
        "# Function that performs arithmetic operations\n",
        "def calculate_area(shape):\n",
        "    return shape.area()\n",
        "\n",
        "# Creating objects of different classes\n",
        "circle = Circle(5)\n",
        "rectangle = Rectangle(10, 20)\n",
        "triangle = Triangle(8, 12)\n",
        "\n",
        "# Calling the calculate_area() function with different objects\n",
        "print(calculate_area(circle))     # Output: 78.5\n",
        "print(calculate_area(rectangle))  # Output: 200\n",
        "print(calculate_area(triangle))   # Output: 48\n"
      ],
      "metadata": {
        "colab": {
          "base_uri": "https://localhost:8080/"
        },
        "id": "ll4Sk0xhhpdY",
        "outputId": "934278bb-a54d-4eba-c9c5-0ae6a7dc5a86"
      },
      "execution_count": 4,
      "outputs": [
        {
          "output_type": "stream",
          "name": "stdout",
          "text": [
            "78.5\n",
            "200\n",
            "48.0\n"
          ]
        }
      ]
    },
    {
      "cell_type": "markdown",
      "source": [
        "**In this example**, we have three different classes Circle, Rectangle, and Triangle, each with its own implementation of the area() method to calculate the area of the respective shape. The calculate_area() function takes a shape object as an argument and calls its area() method. This demonstrates polymorphism, as we can pass objects of different classes to the same function and perform the same operation (calculating the area) on them, even though they are of different types."
      ],
      "metadata": {
        "id": "0DbQHFYWht4z"
      }
    },
    {
      "cell_type": "markdown",
      "source": [
        "# Implementing multiple inheritance and method resolution order (MRO)\n",
        "\n",
        "Multiple inheritance is a feature in object-oriented programming where a class can inherit from more than one parent class. In Python, the method resolution order (MRO) defines the order in which the base classes are searched for a method or attribute when it is called on an object of a derived class.\n",
        "\n",
        "**Here's an example of implementing multiple inheritance and method resolution order (MRO) in Python:**"
      ],
      "metadata": {
        "id": "Jjb7qClqh1bH"
      }
    },
    {
      "cell_type": "code",
      "source": [
        "class Animal:\n",
        "    def speak(self):\n",
        "        print(\"The animal speaks.\")\n",
        "\n",
        "class Dog(Animal):\n",
        "    def speak(self):\n",
        "        print(\"The dog barks.\")\n",
        "\n",
        "class Cat(Animal):\n",
        "    def speak(self):\n",
        "        print(\"The cat meows.\")\n",
        "\n",
        "class Pet:\n",
        "    def play(self):\n",
        "        print(\"The pet plays.\")\n",
        "\n",
        "class PetDog(Dog, Pet):\n",
        "    pass\n",
        "\n",
        "class PetCat(Cat, Pet):\n",
        "    pass\n",
        "\n",
        "# Creating objects of PetDog and PetCat classes\n",
        "pet_dog = PetDog()\n",
        "pet_cat = PetCat()\n",
        "\n",
        "# Calling speak() and play() methods on pet_dog and pet_cat objects\n",
        "pet_dog.speak()  # Output: The dog barks.\n",
        "pet_dog.play()   # Output: The pet plays.\n",
        "\n",
        "pet_cat.speak()  # Output: The cat meows.\n",
        "pet_cat.play()   # Output: The pet plays.\n"
      ],
      "metadata": {
        "colab": {
          "base_uri": "https://localhost:8080/"
        },
        "id": "DpRG0oR5h8-m",
        "outputId": "f898be61-6e71-4953-943e-264bb367df6f"
      },
      "execution_count": 5,
      "outputs": [
        {
          "output_type": "stream",
          "name": "stdout",
          "text": [
            "The dog barks.\n",
            "The pet plays.\n",
            "The cat meows.\n",
            "The pet plays.\n"
          ]
        }
      ]
    },
    {
      "cell_type": "markdown",
      "source": [
        "**Here's an example of multiple inheritance with statement and code**"
      ],
      "metadata": {
        "id": "3xs5FNIUihXC"
      }
    },
    {
      "cell_type": "code",
      "source": [
        "class Vehicle:\n",
        "    def __init__(self, make, model, year):\n",
        "        self.make = make\n",
        "        self.model = model\n",
        "        self.year = year\n",
        "\n",
        "    def display_info(self):\n",
        "        print(\"Make: {}\".format(self.make))\n",
        "        print(\"Model: {}\".format(self.model))\n",
        "        print(\"Year: {}\".format(self.year))\n",
        "\n",
        "class Engine:\n",
        "    def start(self):\n",
        "        print(\"Engine started.\")\n",
        "\n",
        "class Car(Vehicle, Engine):\n",
        "    def __init__(self, make, model, year, num_doors):\n",
        "        Vehicle.__init__(self, make, model, year)\n",
        "        self.num_doors = num_doors\n",
        "\n",
        "    def display_info(self):\n",
        "        print(\"Make: {}\".format(self.make))\n",
        "        print(\"Model: {}\".format(self.model))\n",
        "        print(\"Year: {}\".format(self.year))\n",
        "        print(\"Number of doors: {}\".format(self.num_doors))\n",
        "\n",
        "    def start_engine(self):\n",
        "        self.start()\n",
        "        print(\"Car engine started.\")\n",
        "\n",
        "class Motorcycle(Vehicle, Engine):\n",
        "    def __init__(self, make, model, year, num_wheels):\n",
        "        Vehicle.__init__(self, make, model, year)\n",
        "        self.num_wheels = num_wheels\n",
        "\n",
        "    def display_info(self):\n",
        "        print(\"Make: {}\".format(self.make))\n",
        "        print(\"Model: {}\".format(self.model))\n",
        "        print(\"Year: {}\".format(self.year))\n",
        "        print(\"Number of wheels: {}\".format(self.num_wheels))\n",
        "\n",
        "    def start_engine(self):\n",
        "        self.start()\n",
        "        print(\"Motorcycle engine started.\")\n",
        "\n",
        "# Creating objects of Car and Motorcycle classes\n",
        "car = Car(\"Toyota\", \"Camry\", 2020, 4)\n",
        "motorcycle = Motorcycle(\"Harley-Davidson\", \"Sportster\", 2021, 2)\n",
        "\n",
        "# Calling display_info() and start_engine() methods on car and motorcycle objects\n",
        "car.display_info()\n",
        "car.start_engine()\n",
        "\n",
        "motorcycle.display_info()\n",
        "motorcycle.start_engine()\n"
      ],
      "metadata": {
        "colab": {
          "base_uri": "https://localhost:8080/"
        },
        "id": "BRDB0kD8ijs4",
        "outputId": "7b0bec2c-1dd4-4971-aefe-424c8f170979"
      },
      "execution_count": 6,
      "outputs": [
        {
          "output_type": "stream",
          "name": "stdout",
          "text": [
            "Make: Toyota\n",
            "Model: Camry\n",
            "Year: 2020\n",
            "Number of doors: 4\n",
            "Engine started.\n",
            "Car engine started.\n",
            "Make: Harley-Davidson\n",
            "Model: Sportster\n",
            "Year: 2021\n",
            "Number of wheels: 2\n",
            "Engine started.\n",
            "Motorcycle engine started.\n"
          ]
        }
      ]
    },
    {
      "cell_type": "markdown",
      "source": [
        "**In this example**, Car and Motorcycle classes inherit from both Vehicle and Engine classes, demonstrating multiple inheritance. The display_info() method is overridden in both Car and Motorcycle classes to provide specific implementation for each class. The start_engine() method is also overridden in both classes, but it calls the start() method from the Engine class using self.start(). This demonstrates method resolution order (MRO) when dealing with multiple inheritance."
      ],
      "metadata": {
        "id": "OMi3v9aEim87"
      }
    },
    {
      "cell_type": "markdown",
      "source": [
        "**Lesson 4 on Inheritance and Polymorphism in Python covers important concepts that allow for efficient code reuse and flexibility in object-oriented programming. Here are the key takeaways**\n",
        "\n",
        "1. Inheritance is a mechanism that allows a class to inherit attributes and methods from its parent class. It promotes code reusability and helps in creating a hierarchy of classes with shared characteristics.\n",
        "2. There are different types of inheritance in Python, such as single inheritance (where a class inherits from only one parent class), multiple inheritance (where a class inherits from more than one parent class), and multi-level inheritance (where a class inherits from a parent class, which in turn inherits from another parent class).\n",
        "3. Methods and attributes of a parent class can be overridden in the child class, allowing for customization and specialization in inherited classes.\n",
        "4. Polymorphism is a powerful concept that allows objects of different classes to be treated as if they were of the same class. It promotes code flexibility and abstraction.\n",
        "5. Polymorphism in Python is achieved through duck typing, where the type of an object is determined at runtime based on its behavior, rather than its class or type.\n",
        "6. Method Resolution Order (MRO) is the order in which Python looks for methods in a class hierarchy. It follows a specific algorithm called C3 linearization, which determines the order in which parent classes' methods are called in case of multiple inheritance.\n",
        "7. Multiple inheritance allows a class to inherit from more than one parent class, enabling the reuse of code from multiple sources. However, it requires careful consideration of method resolution order and potential conflicts.\n",
        "8. Inheritance and polymorphism are powerful tools in object-oriented programming that promote code reuse, flexibility, and abstraction, leading to efficient and maintainable code.\n",
        "9. Understanding the different types of inheritance, overriding methods and attributes, and implementing polymorphism are essential skills for writing efficient and extensible object-oriented Python code.\n",
        "10. In conclusion, mastering the concepts of inheritance and polymorphism in Python opens up a wide range of possibilities for designing flexible and scalable applications, and it is a fundamental aspect of advanced Python programming"
      ],
      "metadata": {
        "id": "ALxuR43Wj_L6"
      }
    },
    {
      "cell_type": "markdown",
      "source": [
        "# 10 assignment statements related to Inheritance and Polymorphism:\n",
        "\n",
        "1. Create a class Animal with attributes name, species, age, and methods to make sound, display information, and check if the animal is endangered. Implement subclasses for different types of animals, such as Mammal, Bird, and Reptile, with specific attributes and methods.\n",
        "2. Implement a class Vehicle with attributes like make, model, year, color, and methods to start the engine, turn on/off lights, and display vehicle information. Create subclasses for different types of vehicles, such as Car, Motorcycle, and Truck, with specific attributes and methods.\n",
        "3. Create a class Employee with attributes like name, age, employee_id, designation, and methods to calculate salary, display employee information, and check if the employee is eligible for a promotion. Implement subclasses for different types of employees, such as Manager, Engineer, and Salesperson, with specific attributes and methods.\n",
        "4. Implement a class Shape with attributes length and width, and methods to calculate area, perimeter, and check if it is a square. Create subclasses for different types of shapes, such as Rectangle, Square, and Triangle, with specific attributes and methods.\n",
        "5. Create a class BankAccount with attributes like account_number, account_holder_name, balance, and methods to deposit, withdraw, and display account information. Implement subclasses for different types of bank accounts, such as SavingsAccount, CheckingAccount, and CreditCardAccount, with specific attributes and methods.\n",
        "6. Implement a class Pet with attributes name, age, species, and methods to make sound, display information, and check if the pet is vaccinated. Create subclasses for different types of pets, such as Dog, Cat, and Bird, with specific attributes and methods.\n",
        "7. Create a class School with attributes like name, location, principal, and methods to display school information, calculate average grades, and check if the school is accredited. Implement subclasses for different types of schools, such as ElementarySchool, HighSchool, and College, with specific attributes and methods.\n",
        "8. Implement a class Product with attributes name, description, price, quantity, and methods to calculate total cost, display product information, and check if the product is in stock. Create subclasses for different types of products, such as Electronics, Clothing, and Food, with specific attributes and methods.\n",
        "9. Create a class VehicleRental with attributes like vehicle_type, rental_duration, rental_fee, and methods to calculate total rental cost, display rental information, and check if the vehicle is available for rent. Implement subclasses for different types of vehicle rentals, such as CarRental, MotorcycleRental, and BoatRental, with specific attributes and methods.\n",
        "10. Implement a class ShapeDrawer with methods to draw different types of shapes, such as rectangles, triangles, and circles, using polymorphism. Implement subclasses for each type of shape with specific methods to draw the shape."
      ],
      "metadata": {
        "id": "K0kuiFV0jeGJ"
      }
    }
  ]
}