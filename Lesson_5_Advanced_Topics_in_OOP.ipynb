{
  "nbformat": 4,
  "nbformat_minor": 0,
  "metadata": {
    "colab": {
      "provenance": [],
      "authorship_tag": "ABX9TyMyb8WsI3/xlqsSm9RKda6t",
      "include_colab_link": true
    },
    "kernelspec": {
      "name": "python3",
      "display_name": "Python 3"
    },
    "language_info": {
      "name": "python"
    }
  },
  "cells": [
    {
      "cell_type": "markdown",
      "metadata": {
        "id": "view-in-github",
        "colab_type": "text"
      },
      "source": [
        "<a href=\"https://colab.research.google.com/github/ranamaddy/Object-Oriented-Programming-using-Python/blob/main/Lesson_5_Advanced_Topics_in_OOP.ipynb\" target=\"_parent\"><img src=\"https://colab.research.google.com/assets/colab-badge.svg\" alt=\"Open In Colab\"/></a>"
      ]
    },
    {
      "cell_type": "markdown",
      "source": [
        "# Lesson 5: Advanced Topics in OOP\n",
        "\n",
        "- Understanding composition, aggregation, and association\n",
        "- Using decorators, abstract classes, and interfaces in Python\n",
        "- Working with static and class methods\n",
        "- Understanding encapsulation and data hiding in Python"
      ],
      "metadata": {
        "id": "34dQ1ddFm-tR"
      }
    },
    {
      "cell_type": "markdown",
      "source": [
        "# Understanding composition, aggregation, and association\n",
        "\n",
        "Understanding composition, aggregation, and association are important concepts in object-oriented programming (OOP) that describe the relationships between objects in a system. Here's a brief overview\n",
        "\n",
        "**Composition**: Composition is a strong form of association where a class (known as the container or composite class) contains objects of other classes (known as components or parts) as its attributes. The lifetime of the components is tightly coupled with the lifetime of the container, and when the container is destroyed, its components are also destroyed. In other words, the components cannot exist independently without the container. Composition is often used to model \"whole-part\" or \"has-a\" relationships, where the components are essential parts of the container and cannot exist without it.\n",
        "\n",
        "**Aggregation**: Aggregation is a weaker form of association where a class (known as the aggregate class) contains objects of other classes (known as aggregates) as its attributes. However, the lifetime of the aggregates is not dependent on the lifetime of the aggregate class, and they can exist independently even if the aggregate class is destroyed. Aggregation is often used to model \"has-a\" relationships where the components are not essential parts of the aggregate and can exist independently.\n",
        "\n",
        "**Association**: Association is a general relationship between classes where one class is associated with another class, but the objects of the associated classes can exist independently without any ownership or containment. Association is often used to model \"uses-a\" or \"interacts-with\" relationships, where objects of one class interact with objects of another class, but they are not tightly coupled in terms of their lifetime or ownership\n",
        "\n",
        "Understanding these concepts is important in designing object-oriented systems, as they help in defining the relationships between classes and objects in a meaningful and efficient way. Proper use of composition, aggregation, and association can result in well-organized and maintainable code, while improper use can lead to design flaws and potential issues in the system"
      ],
      "metadata": {
        "id": "aoDFR_xSkwZp"
      }
    },
    {
      "cell_type": "markdown",
      "source": [
        "# composition\n",
        "\n",
        "**Program Statement: Create a class 'Engine' that represents an engine of a vehicle, and a class 'Car' that represents a car using the 'Engine' class as a composition**"
      ],
      "metadata": {
        "id": "CHFCc8SAlULW"
      }
    },
    {
      "cell_type": "code",
      "execution_count": 2,
      "metadata": {
        "colab": {
          "base_uri": "https://localhost:8080/"
        },
        "id": "sMV8KM4skuEq",
        "outputId": "ec7b9fb7-c57a-4c2a-caaa-b9eebb763cba"
      },
      "outputs": [
        {
          "output_type": "stream",
          "name": "stdout",
          "text": [
            "Driving the Toyota Camry\n",
            "Engine started.\n",
            "Engine stopped.\n"
          ]
        }
      ],
      "source": [
        "\n",
        "\n",
        "class Engine:\n",
        "    def __init__(self, fuel_type, horsepower):\n",
        "        self.fuel_type = fuel_type\n",
        "        self.horsepower = horsepower\n",
        "    \n",
        "    def start(self):\n",
        "        print(\"Engine started.\")\n",
        "    \n",
        "    def stop(self):\n",
        "        print(\"Engine stopped.\")\n",
        "\n",
        "class Car:\n",
        "    def __init__(self, make, model, fuel_type, horsepower):\n",
        "        self.make = make\n",
        "        self.model = model\n",
        "        self.engine = Engine(fuel_type, horsepower) # Composition\n",
        "        \n",
        "    def drive(self):\n",
        "        print(\"Driving the {} {}\".format(self.make, self.model))\n",
        "        self.engine.start()\n",
        "        # Drive logic here\n",
        "        self.engine.stop()\n",
        "\n",
        "# Create a car object\n",
        "my_car = Car(\"Toyota\", \"Camry\", \"Gasoline\", 200)\n",
        "my_car.drive()\n",
        "\n",
        "# Output:\n",
        "# Driving the Toyota Camry\n",
        "# Engine started.\n",
        "# Engine stopped.\n"
      ]
    },
    {
      "cell_type": "markdown",
      "source": [
        "**In this example**, the Car class has an attribute engine of type Engine, which represents the composition relationship. The Engine class is a separate class that is used as a component or part of the Car class. The Car class \"has-a\" relationship with the Engine class, and the lifetime of the Engine object is tightly coupled with the lifetime of the Car object. When the Car object is destroyed, the Engine object is also destroyed. The Car class can access the methods and attributes of the Engine class through its engine attribute, allowing it to encapsulate the functionality of the engine within the car object."
      ],
      "metadata": {
        "id": "1Wv-J_NdloqE"
      }
    },
    {
      "cell_type": "markdown",
      "source": [
        "** Program Statement: Create a class 'Person' that represents a person, and a class 'Address' that represents an address and use composition to associate 'Address' with 'Person'**"
      ],
      "metadata": {
        "id": "xNUr5kWMlyL8"
      }
    },
    {
      "cell_type": "code",
      "source": [
        "# Program Statement: Create a class 'Person' that represents a person, and a class 'Address' that represents an address\n",
        "# and use composition to associate 'Address' with 'Person'.\n",
        "\n",
        "class Address:\n",
        "    def __init__(self, street, city, state, zip_code):\n",
        "        self.street = street\n",
        "        self.city = city\n",
        "        self.state = state\n",
        "        self.zip_code = zip_code\n",
        "    \n",
        "    def display(self):\n",
        "        print(\"Street: {}\".format(self.street))\n",
        "        print(\"City: {}\".format(self.city))\n",
        "        print(\"State: {}\".format(self.state))\n",
        "        print(\"Zip Code: {}\".format(self.zip_code))\n",
        "\n",
        "class Person:\n",
        "    def __init__(self, name, age, street, city, state, zip_code):\n",
        "        self.name = name\n",
        "        self.age = age\n",
        "        self.address = Address(street, city, state, zip_code) # Composition\n",
        "        \n",
        "    def display(self):\n",
        "        print(\"Name: {}\".format(self.name))\n",
        "        print(\"Age: {}\".format(self.age))\n",
        "        self.address.display()\n",
        "\n",
        "# Create a person object\n",
        "my_person = Person(\"John\", 30, \"1234 Elm Street\", \"Springfield\", \"IL\", \"62704\")\n",
        "my_person.display()\n",
        "\n",
        "# Output:\n",
        "# Name: John\n",
        "# Age: 30\n",
        "# Street: 1234 Elm Street\n",
        "# City: Springfield\n",
        "# State: IL\n",
        "# Zip Code: 62704\n"
      ],
      "metadata": {
        "colab": {
          "base_uri": "https://localhost:8080/"
        },
        "id": "gPIGhsdcl5ij",
        "outputId": "c06b3f77-7bde-4584-d433-10d7bc6c50c3"
      },
      "execution_count": 3,
      "outputs": [
        {
          "output_type": "stream",
          "name": "stdout",
          "text": [
            "Name: John\n",
            "Age: 30\n",
            "Street: 1234 Elm Street\n",
            "City: Springfield\n",
            "State: IL\n",
            "Zip Code: 62704\n"
          ]
        }
      ]
    },
    {
      "cell_type": "markdown",
      "source": [
        "**In this example**, the Person class has an attribute address of type Address, which represents the composition relationship. The Address class is a separate class that is used as a component or part of the Person class. The Person class \"has-a\" relationship with the Address class, and the lifetime of the Address object is tightly coupled with the lifetime of the Person object. When the Person object is destroyed, the Address object is also destroyed. The Person class can access the methods and attributes of the Address class through its address attribute, allowing it to encapsulate the functionality of the address within the person objec"
      ],
      "metadata": {
        "id": "EqM3shn0l_Rh"
      }
    },
    {
      "cell_type": "markdown",
      "source": [
        "# Aggregation:\n",
        "\n",
        "Program Statement: Create a class 'Department' that represents a department in a company, and a class 'Employee' that represents an employee. Use aggregation to associate 'Employee' with 'Department'\n"
      ],
      "metadata": {
        "id": "8f95iS_UmKM9"
      }
    },
    {
      "cell_type": "code",
      "source": [
        "class Employee:\n",
        "    def __init__(self, emp_id, name, age):\n",
        "        self.emp_id = emp_id\n",
        "        self.name = name\n",
        "        self.age = age\n",
        "    \n",
        "    def display(self):\n",
        "        print(\"Employee ID: {}\".format(self.emp_id))\n",
        "        print(\"Name: {}\".format(self.name))\n",
        "        print(\"Age: {}\".format(self.age))\n",
        "\n",
        "class Department:\n",
        "    def __init__(self, dept_id, name, employees=None):\n",
        "        self.dept_id = dept_id\n",
        "        self.name = name\n",
        "        if employees is None:\n",
        "            employees = []\n",
        "        self.employees = employees  # Aggregation\n",
        "        \n",
        "    def add_employee(self, emp):\n",
        "        self.employees.append(emp)\n",
        "    \n",
        "    def remove_employee(self, emp):\n",
        "        self.employees.remove(emp)\n",
        "    \n",
        "    def display(self):\n",
        "        print(\"Department ID: {}\".format(self.dept_id))\n",
        "        print(\"Name: {}\".format(self.name))\n",
        "        print(\"Employees: \")\n",
        "        for emp in self.employees:\n",
        "            emp.display()\n",
        "\n",
        "# Create employee objects\n",
        "emp1 = Employee(101, \"John\", 30)\n",
        "emp2 = Employee(102, \"Jane\", 28)\n",
        "emp3 = Employee(103, \"Michael\", 35)\n",
        "\n",
        "# Create department object\n",
        "dept1 = Department(1, \"HR\")\n",
        "dept1.add_employee(emp1)\n",
        "dept1.add_employee(emp2)\n",
        "\n",
        "# Display department and employee information\n",
        "dept1.display()\n",
        "\n",
        "# Output:\n",
        "# Department ID: 1\n",
        "# Name: HR\n",
        "# Employees:\n",
        "# Employee ID: 101\n",
        "# Name: John\n",
        "# Age: 30\n",
        "# Employee ID: 102\n",
        "# Name: Jane\n",
        "# Age: 28\n"
      ],
      "metadata": {
        "colab": {
          "base_uri": "https://localhost:8080/"
        },
        "id": "-BBCDrLumRXi",
        "outputId": "d0d6bbb4-8a2c-471d-e204-79aacf276598"
      },
      "execution_count": 4,
      "outputs": [
        {
          "output_type": "stream",
          "name": "stdout",
          "text": [
            "Department ID: 1\n",
            "Name: HR\n",
            "Employees: \n",
            "Employee ID: 101\n",
            "Name: John\n",
            "Age: 30\n",
            "Employee ID: 102\n",
            "Name: Jane\n",
            "Age: 28\n"
          ]
        }
      ]
    },
    {
      "cell_type": "markdown",
      "source": [
        "**In this example**, the Department class has an attribute employees which is a list of Employee objects, representing the aggregation relationship. The Department class \"has-a\" relationship with the Employee class, but the lifetime of the Employee objects is not tightly coupled with the Department object. The Department class can add, remove, and display the Employee objects, but they can also exist independently outside of the Department object. Aggregation represents a weaker form of association compared to composition, where objects can be shared among multiple entities and can have their own lifetime."
      ],
      "metadata": {
        "id": "VHVDAc6amdQ0"
      }
    },
    {
      "cell_type": "markdown",
      "source": [
        "# Association: \n",
        "\n",
        "Program Statement: Create a class 'University' that represents a university, and a class 'Student' that represents a student. Use association to establish a relationship between 'University' and 'Student'.\n"
      ],
      "metadata": {
        "id": "6eNP8T3dmoDE"
      }
    },
    {
      "cell_type": "code",
      "source": [
        "class Student:\n",
        "    def __init__(self, student_id, name, age):\n",
        "        self.student_id = student_id\n",
        "        self.name = name\n",
        "        self.age = age\n",
        "    \n",
        "    def display(self):\n",
        "        print(\"Student ID: {}\".format(self.student_id))\n",
        "        print(\"Name: {}\".format(self.name))\n",
        "        print(\"Age: {}\".format(self.age))\n",
        "\n",
        "class University:\n",
        "    def __init__(self, name, students=None):\n",
        "        self.name = name\n",
        "        if students is None:\n",
        "            students = []\n",
        "        self.students = students  # Association\n",
        "        \n",
        "    def enroll_student(self, student):\n",
        "        self.students.append(student)\n",
        "    \n",
        "    def graduate_student(self, student):\n",
        "        self.students.remove(student)\n",
        "    \n",
        "    def display(self):\n",
        "        print(\"University: {}\".format(self.name))\n",
        "        print(\"Enrolled Students: \")\n",
        "        for student in self.students:\n",
        "            student.display()\n",
        "\n",
        "# Create student objects\n",
        "student1 = Student(101, \"John\", 20)\n",
        "student2 = Student(102, \"Jane\", 22)\n",
        "student3 = Student(103, \"Michael\", 25)\n",
        "\n",
        "# Create university object\n",
        "university1 = University(\"ABC University\")\n",
        "university1.enroll_student(student1)\n",
        "university1.enroll_student(student2)\n",
        "\n",
        "# Display university and student information\n",
        "university1.display()\n",
        "\n",
        "# Output:\n",
        "# University: ABC University\n",
        "# Enrolled Students:\n",
        "# Student ID: 101\n",
        "# Name: John\n",
        "# Age: 20\n",
        "# Student ID: 102\n",
        "# Name: Jane\n",
        "# Age: 22\n"
      ],
      "metadata": {
        "colab": {
          "base_uri": "https://localhost:8080/"
        },
        "id": "vdSsqaMnmuFA",
        "outputId": "207dd0e1-6d13-4699-f422-892d5cb9a2a5"
      },
      "execution_count": 5,
      "outputs": [
        {
          "output_type": "stream",
          "name": "stdout",
          "text": [
            "University: ABC University\n",
            "Enrolled Students: \n",
            "Student ID: 101\n",
            "Name: John\n",
            "Age: 20\n",
            "Student ID: 102\n",
            "Name: Jane\n",
            "Age: 22\n"
          ]
        }
      ]
    },
    {
      "cell_type": "markdown",
      "source": [
        "**In this example**, the University class has an attribute students which is a list of Student objects, representing the association relationship. The University class \"has-a\" relationship with the Student class, where it can enroll, graduate, and display students, but the lifetime of the Student objects is not directly controlled by the University object. The Student objects can exist independently outside of the University object, and they can also be associated with other entities. Association represents a looser form of relationship compared to aggregation and composition, where objects can be loosely associated with each other and have their own lifetime"
      ],
      "metadata": {
        "id": "7NLBbQLtmx0v"
      }
    },
    {
      "cell_type": "markdown",
      "source": [
        "# Using decorators, abstract classes, and interfaces in Python\n",
        "\n",
        "**Decorators**: Decorators are functions in Python that are used to modify the behavior of other functions or methods. They allow you to add additional functionality to a function or method without modifying its code. Decorators are often used for tasks such as logging, authentication, caching, and performance optimization. They are typically applied using the @decorator_name syntax above the function or method definition.\n",
        "\n",
        "**Abstract Classes:** Abstract classes are classes in Python that cannot be instantiated and are meant to be subclassed. They can define abstract methods, which are methods without implementation in the abstract class, and their subclasses are required to provide an implementation for these methods. Abstract classes are created using the abc module in Python and are used to define common interfaces and enforce certain behaviors in subclasses.\n",
        "\n",
        "**Interfaces**: Although Python does not have a native interface keyword like some other programming languages, you can create interfaces using abstract classes. An interface is a set of methods that define a contract that must be implemented by classes that claim to implement that interface. In Python, interfaces can be represented using abstract classes with only abstract methods, and classes that implement these abstract methods are considered to be implementing the interface.\n",
        "\n",
        "Using decorators, abstract classes, and interfaces can help improve code organization, modularity, and maintainability in Python projects, making them powerful tools for writing clean, efficient, and extensible code."
      ],
      "metadata": {
        "id": "odMbR4bhm4qv"
      }
    },
    {
      "cell_type": "markdown",
      "source": [
        "# Decorators"
      ],
      "metadata": {
        "id": "INUOVHB9n0Ew"
      }
    },
    {
      "cell_type": "code",
      "source": [
        "# Define a decorator function\n",
        "def log_function_call(func):\n",
        "    def wrapper(*args, **kwargs):\n",
        "        print(f\"Calling function: {func.__name__}\")\n",
        "        return func(*args, **kwargs)\n",
        "    return wrapper\n",
        "\n",
        "# Define a function to be decorated\n",
        "@log_function_call\n",
        "def greet(name):\n",
        "    print(f\"Hello, {name}!\")\n",
        "\n",
        "# Call the decorated function\n",
        "greet(\"John\")\n"
      ],
      "metadata": {
        "colab": {
          "base_uri": "https://localhost:8080/"
        },
        "id": "8uQ0g0Dnnf9K",
        "outputId": "c9ebd0d0-39e7-4c87-86fe-326b1fd9e7f5"
      },
      "execution_count": 6,
      "outputs": [
        {
          "output_type": "stream",
          "name": "stdout",
          "text": [
            "Calling function: greet\n",
            "Hello, John!\n"
          ]
        }
      ]
    },
    {
      "cell_type": "markdown",
      "source": [
        "**In this example**, we define a decorator function log_function_call that takes a function func as an argument and returns a wrapper function. The wrapper function is a closure that logs the name of the function being called before calling the original function using func(*args, **kwargs).\n",
        "\n",
        "We then use the @decorator_name syntax to apply the log_function_call decorator to the greet function. Now, every time we call the greet function, the decorator will log the function name before executing the function. This can be useful for tasks like logging function calls, measuring function performance, or adding authentication to function calls, among others."
      ],
      "metadata": {
        "id": "Os9LzfA3nkRP"
      }
    },
    {
      "cell_type": "markdown",
      "source": [
        "# Abstract Classes"
      ],
      "metadata": {
        "id": "1p1s9wOYnkCj"
      }
    },
    {
      "cell_type": "code",
      "source": [
        "from abc import ABC, abstractmethod\n",
        "\n",
        "# Define an abstract class\n",
        "class Animal(ABC):\n",
        "    @abstractmethod\n",
        "    def make_sound(self):\n",
        "        pass\n",
        "\n",
        "# Define a concrete class that inherits from the abstract class\n",
        "class Dog(Animal):\n",
        "    def make_sound(self):\n",
        "        print(\"The dog barks.\")\n",
        "\n",
        "# Create objects of the concrete class\n",
        "dog = Dog()\n",
        "dog.make_sound()\n"
      ],
      "metadata": {
        "colab": {
          "base_uri": "https://localhost:8080/"
        },
        "id": "_Tm-7Kbun9rd",
        "outputId": "f6f93757-1b06-42e6-f291-5b6b0cc5b00c"
      },
      "execution_count": 7,
      "outputs": [
        {
          "output_type": "stream",
          "name": "stdout",
          "text": [
            "The dog barks.\n"
          ]
        }
      ]
    },
    {
      "cell_type": "markdown",
      "source": [
        "**In this example**, we define an abstract class Animal that inherits from the ABC class, which stands for \"Abstract Base Class\". The Animal class contains an abstract method make_sound() which does not have any implementation, indicated by the @abstractmethod decorator.\n",
        "\n",
        "We then define a concrete class Dog that inherits from the Animal abstract class. The Dog class provides an implementation for the make_sound() method.\n",
        "\n",
        "Note that we cannot create objects of the abstract class Animal directly, as it contains abstract methods without any implementation. We need to create objects of the concrete class Dog, which inherits from the Animal abstract class and provides an implementation for the abstract method make_sound(). This ensures that any object created from the Dog class will have the make_sound() method available to call"
      ],
      "metadata": {
        "id": "VBYGGwtuoH3l"
      }
    },
    {
      "cell_type": "markdown",
      "source": [
        "# Interfaces"
      ],
      "metadata": {
        "id": "gqneezRpoQNf"
      }
    },
    {
      "cell_type": "code",
      "source": [
        "from abc import ABC, abstractmethod\n",
        "\n",
        "# Define an interface using an abstract class\n",
        "class Shape(ABC):\n",
        "    @abstractmethod\n",
        "    def area(self):\n",
        "        pass\n",
        "\n",
        "# Define classes that inherit from the interface\n",
        "class Circle(Shape):\n",
        "    def __init__(self, radius):\n",
        "        self.radius = radius\n",
        "    \n",
        "    def area(self):\n",
        "        return 3.14 * self.radius * self.radius\n",
        "\n",
        "class Square(Shape):\n",
        "    def __init__(self, side):\n",
        "        self.side = side\n",
        "    \n",
        "    def area(self):\n",
        "        return self.side * self.side\n",
        "\n",
        "# Create objects of the classes that implement the interface\n",
        "circle = Circle(5)\n",
        "print(\"Area of circle:\", circle.area())\n",
        "\n",
        "square = Square(4)\n",
        "print(\"Area of square:\", square.area())\n"
      ],
      "metadata": {
        "colab": {
          "base_uri": "https://localhost:8080/"
        },
        "id": "MK6a0GDQoVSM",
        "outputId": "74d6305b-8bc4-48b6-ba11-f9201b3988bd"
      },
      "execution_count": 8,
      "outputs": [
        {
          "output_type": "stream",
          "name": "stdout",
          "text": [
            "Area of circle: 78.5\n",
            "Area of square: 16\n"
          ]
        }
      ]
    },
    {
      "cell_type": "markdown",
      "source": [
        "**In this example**, we define an interface Shape using an abstract class that contains an abstract method area(). The classes Circle and Square inherit from the Shape abstract class and provide their own implementation for the area() method. By doing so, these classes adhere to the contract specified by the Shape interface."
      ],
      "metadata": {
        "id": "6DpDg4sloYJK"
      }
    },
    {
      "cell_type": "markdown",
      "source": [
        "# Working with static and class methods\n",
        "\n",
        "Working with static and class methods in Python allows us to define and use methods that are associated with a class rather than an instance of that clas\n",
        "1. Static methods: Static methods are defined using the @staticmethod decorator and can be called on a class directly, without creating an instance of the class. They are not bound to any specific instance and do not have access to instance-specific data or methods.\n"
      ],
      "metadata": {
        "id": "-SIetQxfoejF"
      }
    },
    {
      "cell_type": "code",
      "source": [
        "class MathUtil:\n",
        "    @staticmethod\n",
        "    def add(a, b):\n",
        "        return a + b\n",
        "\n",
        "    @staticmethod\n",
        "    def multiply(a, b):\n",
        "        return a * b\n",
        "\n",
        "# Call static methods on the class itself\n",
        "sum = MathUtil.add(5, 3)\n",
        "product = MathUtil.multiply(5, 3)\n",
        "\n",
        "print(\"Sum:\", sum)\n",
        "print(\"Product:\", product)\n"
      ],
      "metadata": {
        "colab": {
          "base_uri": "https://localhost:8080/"
        },
        "id": "bDvy6NIDotZ1",
        "outputId": "a8e960ec-ccef-4518-bcad-2cc0d581fbf6"
      },
      "execution_count": 9,
      "outputs": [
        {
          "output_type": "stream",
          "name": "stdout",
          "text": [
            "Sum: 8\n",
            "Product: 15\n"
          ]
        }
      ]
    },
    {
      "cell_type": "markdown",
      "source": [
        "2. Class methods: Class methods are defined using the @classmethod decorator and can be called on a class or an instance of that class. They have access to both class-level and instance-level data and methods.\n"
      ],
      "metadata": {
        "id": "EHFn13Feo2W0"
      }
    },
    {
      "cell_type": "code",
      "source": [
        "class Employee:\n",
        "    num_employees = 0\n",
        "\n",
        "    def __init__(self, name):\n",
        "        self.name = name\n",
        "        Employee.num_employees += 1\n",
        "\n",
        "    @classmethod\n",
        "    def get_num_employees(cls):\n",
        "        return cls.num_employees\n",
        "\n",
        "# Create instances of Employee class\n",
        "emp1 = Employee(\"John\")\n",
        "emp2 = Employee(\"Alice\")\n",
        "\n",
        "# Call class method on class and instances\n",
        "print(\"Number of employees (using class method):\", Employee.get_num_employees())\n",
        "print(\"Number of employees (using instance method):\", emp1.get_num_employees())\n"
      ],
      "metadata": {
        "colab": {
          "base_uri": "https://localhost:8080/"
        },
        "id": "5Z48LVCzo469",
        "outputId": "b1bc5972-3b7a-43ca-f10f-c992ee12be16"
      },
      "execution_count": 10,
      "outputs": [
        {
          "output_type": "stream",
          "name": "stdout",
          "text": [
            "Number of employees (using class method): 2\n",
            "Number of employees (using instance method): 2\n"
          ]
        }
      ]
    },
    {
      "cell_type": "markdown",
      "source": [
        "**In this example**, we define a class method get_num_employees() that returns the number of employees created so far. It can be called on both the class itself (Employee.get_num_employees()) and instances of that class (emp1.get_num_employees())."
      ],
      "metadata": {
        "id": "5u9a-emRo-pR"
      }
    },
    {
      "cell_type": "markdown",
      "source": [
        "**Understanding encapsulation and data hiding in Python**\n",
        "\n",
        "Encapsulation and data hiding are concepts in object-oriented programming that help to restrict access to certain class members (i.e., attributes and methods) in Python.\n",
        "1. Encapsulation: Encapsulation refers to the practice of hiding the implementation details of a class and exposing only the essential attributes and methods to the outside world. In Python, encapsulation can be achieved by using private and protected access specifiers.\n"
      ],
      "metadata": {
        "id": "O7movNaXpHNv"
      }
    },
    {
      "cell_type": "code",
      "source": [
        "class BankAccount:\n",
        "    def __init__(self, account_number, balance):\n",
        "        self.__account_number = account_number  # private attribute\n",
        "        self._balance = balance  # protected attribute\n",
        "\n",
        "    def deposit(self, amount):\n",
        "        self._balance += amount\n",
        "\n",
        "    def withdraw(self, amount):\n",
        "        if amount <= self._balance:\n",
        "            self._balance -= amount\n",
        "        else:\n",
        "            print(\"Insufficient balance\")\n",
        "\n",
        "    # public method to access private attribute\n",
        "    def get_account_number(self):\n",
        "        return self.__account_number\n",
        "\n",
        "    # public method to access protected attribute\n",
        "    def get_balance(self):\n",
        "        return self._balance\n",
        "\n",
        "\n",
        "# Create an instance of BankAccount class\n",
        "account1 = BankAccount(\"123456789\", 1000)\n",
        "\n",
        "# Accessing public methods\n",
        "account1.deposit(500)\n",
        "account1.withdraw(200)\n",
        "print(\"Account Number:\", account1.get_account_number())  # accessing private attribute\n",
        "print(\"Balance:\", account1.get_balance())  # accessing protected attribute\n"
      ],
      "metadata": {
        "colab": {
          "base_uri": "https://localhost:8080/"
        },
        "id": "Bk2PMPInpQKA",
        "outputId": "01c67fe8-948d-4182-e479-42c2f4cb25a4"
      },
      "execution_count": 11,
      "outputs": [
        {
          "output_type": "stream",
          "name": "stdout",
          "text": [
            "Account Number: 123456789\n",
            "Balance: 1300\n"
          ]
        }
      ]
    },
    {
      "cell_type": "markdown",
      "source": [
        "**In this example**, we use private and protected access specifiers to encapsulate the account_number attribute and the _balance attribute, respectively. We provide public methods get_account_number() and get_balance() to access these encapsulated attributes."
      ],
      "metadata": {
        "id": "sYpv1qlZpS7e"
      }
    },
    {
      "cell_type": "markdown",
      "source": [
        "2. Data hiding: Data hiding is the practice of making class members inaccessible from outside the class, preventing direct modification or access to the data. In Python, data hiding can be achieved by using name mangling with double underscores (__) prefix."
      ],
      "metadata": {
        "id": "CuvNVn83pV9u"
      }
    },
    {
      "cell_type": "code",
      "source": [
        "class Person:\n",
        "    def __init__(self, name, age):\n",
        "        self.__name = name  # private attribute\n",
        "        self.__age = age  # private attribute\n",
        "\n",
        "    def display(self):\n",
        "        print(\"Name:\", self.__name)\n",
        "        print(\"Age:\", self.__age)\n",
        "\n",
        "\n",
        "# Create an instance of Person class\n",
        "person1 = Person(\"John\", 30)\n",
        "\n",
        "# Accessing private attributes\n",
        "person1.display()\n",
        "print(\"Name:\", person1._Person__name)  # accessing private attribute using name mangling\n",
        "print(\"Age:\", person1._Person__age)  # accessing private attribute using name mangling\n"
      ],
      "metadata": {
        "colab": {
          "base_uri": "https://localhost:8080/"
        },
        "id": "oRfOByJ_pZrm",
        "outputId": "8c3de16d-65f2-4ccf-daa1-0fcfe57723eb"
      },
      "execution_count": 12,
      "outputs": [
        {
          "output_type": "stream",
          "name": "stdout",
          "text": [
            "Name: John\n",
            "Age: 30\n",
            "Name: John\n",
            "Age: 30\n"
          ]
        }
      ]
    },
    {
      "cell_type": "markdown",
      "source": [
        "**In this example**, we use name mangling with double underscores (__) prefix to make the name and age attributes private. We can still access these private attributes from outside the class using the name mangling syntax (_ClassName__attribute). However, it is generally recommended to not access private attributes directly from outside the class and use public methods to access them."
      ],
      "metadata": {
        "id": "t-siYd_9peEn"
      }
    },
    {
      "cell_type": "markdown",
      "source": [
        "**In conclusion**, encapsulation and data hiding are important concepts in object-oriented programming that allow for better organization, abstraction, and security of code in Python.\n",
        "\n",
        "Encapsulation involves hiding the implementation details of a class and exposing only essential attributes and methods to the outside world. This can be achieved using private and protected access specifiers in Python, such as using double underscores (__) prefix for private attributes and single underscore (_) prefix for protected attributes. Encapsulation helps in creating more maintainable and robust code by preventing direct modification or access to internal class members from outside the class.\n",
        "\n",
        "Data hiding is a form of encapsulation that involves making class members inaccessible from outside the class, using name mangling with double underscores (__) prefix. This helps in preventing unintentional modification or access to sensitive data in a class, improving code security.\n",
        "\n",
        "By using encapsulation and data hiding effectively, we can achieve better code organization, maintainability, and security in our Python programs. It also promotes the principle of \"information hiding\" in object-oriented programming, where implementation details are kept hidden and only relevant interfaces are exposed to the users of the class."
      ],
      "metadata": {
        "id": "wYwmfTfdphMN"
      }
    },
    {
      "cell_type": "markdown",
      "source": [
        "**Rana Mudassar rasool**"
      ],
      "metadata": {
        "id": "ijX29DpHqAnx"
      }
    }
  ]
}