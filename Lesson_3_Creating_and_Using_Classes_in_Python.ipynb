{
  "nbformat": 4,
  "nbformat_minor": 0,
  "metadata": {
    "colab": {
      "provenance": [],
      "authorship_tag": "ABX9TyO0huX4fdniztDUSVlD18I0",
      "include_colab_link": true
    },
    "kernelspec": {
      "name": "python3",
      "display_name": "Python 3"
    },
    "language_info": {
      "name": "python"
    }
  },
  "cells": [
    {
      "cell_type": "markdown",
      "metadata": {
        "id": "view-in-github",
        "colab_type": "text"
      },
      "source": [
        "<a href=\"https://colab.research.google.com/github/ranamaddy/Object-Oriented-Programming-using-Python/blob/main/Lesson_3_Creating_and_Using_Classes_in_Python.ipynb\" target=\"_parent\"><img src=\"https://colab.research.google.com/assets/colab-badge.svg\" alt=\"Open In Colab\"/></a>"
      ]
    },
    {
      "cell_type": "markdown",
      "source": [
        "# Lesson 3: Creating and Using Classes in Python\n",
        "\n",
        "- Creating classes and objects in Python\n",
        "- Understanding constructors and destructors\n",
        "- Defining and using methods in classes\n",
        "- Access modifiers and properties in Python classes\n",
        "- Best practices for writing classes and objects"
      ],
      "metadata": {
        "id": "PKO7hLF9dyEu"
      }
    },
    {
      "cell_type": "markdown",
      "source": [
        "**Lesson 3: Creating and Using Classes in Python**\n",
        "\n",
        "In this lesson, we will delve into the creation and utilization of classes in Python. We will cover topics such as defining classes, creating class attributes and methods, using constructors, accessing class attributes and methods, and leveraging inheritance and polymorphism.\n",
        "\n",
        "Please let me know if you have any specific questions or if there's a particular aspect of creating and using classes in Python that you would like to learn more about. I'm here to help!\n",
        "\n",
        "\n"
      ],
      "metadata": {
        "id": "2BWRD2_Odt4Z"
      }
    },
    {
      "cell_type": "markdown",
      "source": [
        "# Creating classes and objects in Python\n",
        "\n",
        "In Python, a class can be created using the **class** keyword, followed by the name of the class. The general syntax to create a class in Python is as follows:"
      ],
      "metadata": {
        "id": "NVnOGY95eCU6"
      }
    },
    {
      "cell_type": "code",
      "execution_count": null,
      "metadata": {
        "id": "Iy6nK1wVdiMp"
      },
      "outputs": [],
      "source": [
        "class ClassName:\n",
        "    # Class attributes\n",
        "    # ...\n",
        "\n",
        "    # Constructor\n",
        "    def __init__(self, arg1, arg2, ...):\n",
        "        # Initialize instance attributes\n",
        "        # ...\n",
        "\n",
        "    # Methods\n",
        "    # ...\n"
      ]
    },
    {
      "cell_type": "markdown",
      "source": [
        "The class name should follow CamelCase convention, starting with an uppercase letter. Inside the class, you can define class attributes, a constructor (denoted by __init__ method), and other methods (functions) that define the behavior of objects created from the class."
      ],
      "metadata": {
        "id": "mLQdk126eqYf"
      }
    },
    {
      "cell_type": "markdown",
      "source": [
        "**The self Parameter in Python**\n",
        "\n",
        "The **self** parameter is a reference to the instance of the class and is used to access the class attributes and methods from within the class. It is a convention in Python to use the name **self** as the first parameter in class methods. However, technically, you can use any valid variable name as the first parameter in a class method.\n",
        "\n",
        "**Creating Objects (Instances) in Python**\n",
        "\n",
        "To use a class and its attributes or methods, you need to create objects (instances) of that class. This process is known as instantiation. You can create an object of a class by calling the class name followed by parentheses, similar to a function call.\n",
        "\n",
        "Here's an example of creating a class and an object (instance) in Python"
      ],
      "metadata": {
        "id": "yHB0rlUzesPR"
      }
    },
    {
      "cell_type": "code",
      "source": [
        "# Creating a class\n",
        "class Car:\n",
        "    def __init__(self, make, model):\n",
        "        self.make = make\n",
        "        self.model = model\n",
        "\n",
        "    def drive(self):\n",
        "        return f\"{self.make} {self.model} is driving\"\n",
        "\n",
        "# Creating an instance of the Car class\n",
        "car1 = Car(\"Toyota\", \"Camry\")\n",
        "\n",
        "# Accessing attributes and calling methods\n",
        "print(car1.make)        # Output: Toyota\n",
        "print(car1.drive())     # Output: Toyota Camry is driving\n"
      ],
      "metadata": {
        "colab": {
          "base_uri": "https://localhost:8080/"
        },
        "id": "njz6gsK2fNy-",
        "outputId": "bdc05543-ebc2-4ec5-bcdc-75dc1f3fcea3"
      },
      "execution_count": 1,
      "outputs": [
        {
          "output_type": "stream",
          "name": "stdout",
          "text": [
            "Toyota\n",
            "Toyota Camry is driving\n"
          ]
        }
      ]
    },
    {
      "cell_type": "markdown",
      "source": [
        "In the above example, we create a Car class with a **constructor (__init__ method)** that initializes the make and model attributes. We then create an object car1 of the Car class, passing the arguments \"Toyota\" and \"Camry\" to the constructor. Finally, we access the make attribute and call the drive method on the car1 object to get the respective outputs."
      ],
      "metadata": {
        "id": "Gm_grBvCfUem"
      }
    },
    {
      "cell_type": "markdown",
      "source": [
        "1. Employee Class: You can create an Employee class to represent employees in a company. The class can have attributes like name, age, designation,  You can then create objects (instances) of the Employee class for each employee in the company, and access their attributes and methods as needed."
      ],
      "metadata": {
        "id": "s2h3b7tOfwbu"
      }
    },
    {
      "cell_type": "code",
      "source": [
        "class Employee:\n",
        "    def __init__(self, name, age, designation):\n",
        "        self.name = name\n",
        "        self.age = age\n",
        "        self.designation = designation\n",
        "\n",
        "\n",
        "\n",
        "# Creating instances of the Employee class\n",
        "employee1 = Employee(\"John\", 30, \"Manager\")\n",
        "employee2 = Employee(\"Alice\", 25, \"Developer\")\n",
        "\n",
        "# Accessing attributes and calling methods\n",
        "print(employee1.name)               # Output: John\n",
        "\n"
      ],
      "metadata": {
        "colab": {
          "base_uri": "https://localhost:8080/"
        },
        "id": "DrP8YdLWf0Vn",
        "outputId": "a371d684-64bd-4091-adca-39c55d286694"
      },
      "execution_count": 6,
      "outputs": [
        {
          "output_type": "stream",
          "name": "stdout",
          "text": [
            "John\n"
          ]
        }
      ]
    },
    {
      "cell_type": "markdown",
      "source": [
        "2. Bank Account Class: You can create a BankAccount class to represent bank accounts with attributes like account_number, balance,You can create objects (instances) of the BankAccount class for each bank account, and perform operations on them"
      ],
      "metadata": {
        "id": "N_FnkheNf8hy"
      }
    },
    {
      "cell_type": "code",
      "source": [
        "class BankAccount:\n",
        "    def __init__(self, account_number, balance):\n",
        "        self.account_number = account_number\n",
        "        self.balance = balance\n",
        "\n",
        "\n",
        "# Creating instances of the BankAccount class\n",
        "account1 = BankAccount(\"123456789\", 5000)\n",
        "account2 = BankAccount(\"987654321\", 10000)\n",
        "\n",
        "# Accessing attributes and calling methods\n",
        "print(account1.account_number)     # Output: 123456789\n",
        "\n"
      ],
      "metadata": {
        "colab": {
          "base_uri": "https://localhost:8080/"
        },
        "id": "xeoZK1VzgBN-",
        "outputId": "3ec48780-9937-4577-e196-220ff0597680"
      },
      "execution_count": 3,
      "outputs": [
        {
          "output_type": "stream",
          "name": "stdout",
          "text": [
            "123456789\n"
          ]
        }
      ]
    },
    {
      "cell_type": "markdown",
      "source": [
        "Product Class: You can create a Product class to represent products in an online store with attributes like name, price, category, etc., and methods  You can create objects (instances) of the Product class for each product in the store, and perform operations on them"
      ],
      "metadata": {
        "id": "xEkub0JegOqN"
      }
    },
    {
      "cell_type": "code",
      "source": [
        "class Product:\n",
        "    def __init__(self, name, price, category):\n",
        "        self.name = name\n",
        "        self.price = price\n",
        "        self.category = category\n",
        "\n",
        "\n",
        "\n",
        "# Creating instances of the Product class\n",
        "product1 = Product(\"Laptop\", 1000, \"Electronics\")\n",
        "product2 = Product(\"Shoes\", 50, \"Footwear\")\n",
        "\n",
        "# Accessing attributes and calling methods\n",
        "print(product1.price)                     # Output: 1000\n",
        "\n"
      ],
      "metadata": {
        "colab": {
          "base_uri": "https://localhost:8080/"
        },
        "id": "TO_Nf5x_gS63",
        "outputId": "699623f8-79f4-4edf-9903-92415431e991"
      },
      "execution_count": 5,
      "outputs": [
        {
          "output_type": "stream",
          "name": "stdout",
          "text": [
            "1000\n"
          ]
        }
      ]
    },
    {
      "cell_type": "markdown",
      "source": [
        "# Understanding constructors and destructors\n",
        "\n",
        "**Constructors and Destructors** are special methods in Python classes that are used to initialize and clean up objects, respectively. Here's an overview of what constructors and destructors are and how they work"
      ],
      "metadata": {
        "id": "C5BowAj2hAlZ"
      }
    },
    {
      "cell_type": "markdown",
      "source": [
        "**Constructors:**\n",
        "A constructor is a special method in a class that is automatically called when an object (instance) of that class is created. It is used to initialize the attributes (or properties) of the object. In Python, the constructor method is \n",
        "\n",
        "named __init__(). It is typically used to set the initial values of instance variables and perform any setup operations required for the object.\n",
        "\n",
        "Syntax of a constructor in Python"
      ],
      "metadata": {
        "id": "itkm_eMXhU8y"
      }
    },
    {
      "cell_type": "code",
      "source": [
        "class ClassName:\n",
        "    def __init__(self, parameter1, parameter2, ...):\n",
        "        # Initialize instance variables here\n",
        "        self.parameter1 = parameter1\n",
        "        self.parameter2 = parameter2\n",
        "        ...\n"
      ],
      "metadata": {
        "id": "NY3TSsueg_9i"
      },
      "execution_count": null,
      "outputs": []
    },
    {
      "cell_type": "markdown",
      "source": [
        "The** self** parameter refers to the current instance of the class and is automatically passed by Python. It is used to access the instance variables and methods of the object.\n",
        "\n",
        "**Example of a class with a constructor:**"
      ],
      "metadata": {
        "id": "q02N_YV5hj9h"
      }
    },
    {
      "cell_type": "code",
      "source": [
        "class Employee:\n",
        "    def __init__(self, name, age, designation):\n",
        "        self.name = name\n",
        "        self.age = age\n",
        "        self.designation = designation\n",
        "\n",
        "# Creating an instance of the Employee class\n",
        "employee1 = Employee(\"John\", 30, \"Manager\")\n"
      ],
      "metadata": {
        "id": "jJpPrbmJhqEW"
      },
      "execution_count": 7,
      "outputs": []
    },
    {
      "cell_type": "markdown",
      "source": [
        "**Destructors:**\n",
        "A destructor is a special method in a class that is automatically called when an object (instance) of that class is deleted or goes out of scope. It is used to clean up resources or perform any necessary cleanup operations before the object is deleted from memory. In Python, the destructor method is named\n",
        " \n",
        "** ____del_____().**\n",
        "\n",
        "Syntax of a destructor in Python:"
      ],
      "metadata": {
        "id": "Ph3MCn-hhvbz"
      }
    },
    {
      "cell_type": "code",
      "source": [
        "class ClassName:\n",
        "    def __del__(self):\n",
        "        # Cleanup operations here\n",
        "        ...\n"
      ],
      "metadata": {
        "id": "cTckwmc_iAgY"
      },
      "execution_count": null,
      "outputs": []
    },
    {
      "cell_type": "markdown",
      "source": [
        "The** self** parameter refers to the current instance of the class and is automatically passed by Python.\n",
        "\n",
        "\n",
        "Example of a class with a destructor:"
      ],
      "metadata": {
        "id": "wh4_sLr3iD5Z"
      }
    },
    {
      "cell_type": "code",
      "source": [
        "class Employee:\n",
        "    def __init__(self, name, age, designation):\n",
        "        self.name = name\n",
        "        self.age = age\n",
        "        self.designation = designation\n",
        "\n",
        "    def __del__(self):\n",
        "        print(\"Employee object deleted:\", self.name)\n",
        "\n",
        "# Creating an instance of the Employee class\n",
        "employee1 = Employee(\"John\", 30, \"Manager\")\n",
        "\n",
        "# Deleting the employee1 object\n",
        "del employee1   # Output: Employee object deleted: John\n"
      ],
      "metadata": {
        "colab": {
          "base_uri": "https://localhost:8080/"
        },
        "id": "VxXGuBCJiKvi",
        "outputId": "281a5847-ef20-4c9b-c6ad-bdc6cc3a21fb"
      },
      "execution_count": 8,
      "outputs": [
        {
          "output_type": "stream",
          "name": "stdout",
          "text": [
            "Employee object deleted: John\n"
          ]
        }
      ]
    },
    {
      "cell_type": "markdown",
      "source": [
        "# Note: \n",
        "In Python, you don't need to explicitly call the constructors or destructors. They are automatically called when objects are created or deleted, respectively"
      ],
      "metadata": {
        "id": "Quc1axm9iRRq"
      }
    },
    {
      "cell_type": "markdown",
      "source": [
        "# Defining and using methods in classes\n",
        "In Python, methods are functions that are defined inside a class and are used to perform actions or operations on objects (instances) of that class. Here's an overview of how to define and use methods in classes:\n",
        "\n",
        "**Defining Methods:**\n",
        "Methods are defined inside a class using the def keyword, followed by the method name, parentheses, and a colon. The first parameter of a method is always self, which refers to the current instance of the class. You can also define additional parameters after self to accept input values.\n",
        "\n",
        "Syntax of defining a method in Python"
      ],
      "metadata": {
        "id": "0_wiBztEijiG"
      }
    },
    {
      "cell_type": "code",
      "source": [
        "class ClassName:\n",
        "    def method_name(self, parameter1, parameter2, ...):\n",
        "        # Method body\n",
        "        ...\n"
      ],
      "metadata": {
        "id": "nV4_3rzIiwkB"
      },
      "execution_count": 9,
      "outputs": []
    },
    {
      "cell_type": "markdown",
      "source": [
        "The **self **parameter is automatically passed by Python and is used to access the instance variables and other methods of the object.\n",
        "\n",
        "**Example of defining a method in a class:**"
      ],
      "metadata": {
        "id": "a4DzVlrxi3gH"
      }
    },
    {
      "cell_type": "code",
      "source": [
        "class Circle:\n",
        "    def __init__(self, radius):\n",
        "        self.radius = radius\n",
        "\n",
        "    def calculate_area(self):\n",
        "        return 3.14 * self.radius * self.radius\n",
        "\n",
        "    def calculate_circumference(self):\n",
        "        return 2 * 3.14 * self.radius\n"
      ],
      "metadata": {
        "id": "TNERoSmMi8au"
      },
      "execution_count": 10,
      "outputs": []
    },
    {
      "cell_type": "markdown",
      "source": [
        "# Using Methods:\n",
        "Methods are called on objects (instances) of a class using the object name followed by the method name and parentheses. You don't need to pass the self parameter explicitly, as Python takes care of it automatically.\n",
        "\n",
        "Syntax of calling a method on an object in Python:\n",
        "\n",
        "**object_name.method_name(argument1, argument2, ...)**\n",
        "\n",
        "**Example of using methods on objects:**\n"
      ],
      "metadata": {
        "id": "dhtD5Qo-jDGO"
      }
    },
    {
      "cell_type": "code",
      "source": [
        "# Creating an instance of the Circle class\n",
        "circle1 = Circle(5)\n",
        "\n",
        "# Calling methods on the circle1 object\n",
        "area = circle1.calculate_area()\n",
        "circumference = circle1.calculate_circumference()\n",
        "\n",
        "print(\"Area:\", area)   # Output: Area: 78.5\n",
        "print(\"Circumference:\", circumference)   # Output: Circumference: 31.4\n"
      ],
      "metadata": {
        "colab": {
          "base_uri": "https://localhost:8080/"
        },
        "id": "OfXzmhSTjT4U",
        "outputId": "1b185630-71eb-4f57-a0af-f5725779d045"
      },
      "execution_count": 11,
      "outputs": [
        {
          "output_type": "stream",
          "name": "stdout",
          "text": [
            "Area: 78.5\n",
            "Circumference: 31.400000000000002\n"
          ]
        }
      ]
    },
    {
      "cell_type": "markdown",
      "source": [
        "**Note:** Methods can also return values, modify the object's attributes, or perform other operations as needed. They provide the behavior or functionality of the class and are used to perform actions on objects to achieve the desired results"
      ],
      "metadata": {
        "id": "Uc0zG4AfjY-r"
      }
    },
    {
      "cell_type": "markdown",
      "source": [
        "# Examples \n",
        "1. Employee Class: You can create an **Employee** class with methods like \n",
        "**calculate_salary(), display_employee_details(), and update_employee_info()** \n",
        "\n",
        "that perform various operations related to managing employee information, calculating salary, and updating employee details."
      ],
      "metadata": {
        "id": "qvS2brmtjomp"
      }
    },
    {
      "cell_type": "code",
      "source": [
        "class Employee:\n",
        "    def __init__(self, emp_id, emp_name, emp_salary):\n",
        "        self.emp_id = emp_id\n",
        "        self.emp_name = emp_name\n",
        "        self.emp_salary = emp_salary\n",
        "\n",
        "    def calculate_salary(self):\n",
        "        # Perform calculation logic here\n",
        "        return self.emp_salary * 12\n",
        "\n",
        "    def display_employee_details(self):\n",
        "        # Display employee details\n",
        "        print(\"Employee ID:\", self.emp_id)\n",
        "        print(\"Employee Name:\", self.emp_name)\n",
        "        print(\"Employee Salary:\", self.emp_salary)\n",
        "\n",
        "    def update_employee_info(self, emp_name=None, emp_salary=None):\n",
        "        # Update employee information\n",
        "        if emp_name:\n",
        "            self.emp_name = emp_name\n",
        "        if emp_salary:\n",
        "            self.emp_salary = emp_salary\n",
        "\n",
        "# Creating an instance of Employee class\n",
        "emp1 = Employee(1001, \"John\", 5000)\n",
        "\n",
        "# Calling methods on emp1 object\n",
        "emp1.display_employee_details()\n",
        "print(\"Annual Salary:\", emp1.calculate_salary())\n",
        "\n",
        "emp1.update_employee_info(emp_name=\"John Smith\", emp_salary=5500)\n",
        "emp1.display_employee_details()\n"
      ],
      "metadata": {
        "colab": {
          "base_uri": "https://localhost:8080/"
        },
        "id": "64_-HPA3j9SI",
        "outputId": "4a1500be-dab3-472e-8e84-382851db16ca"
      },
      "execution_count": 12,
      "outputs": [
        {
          "output_type": "stream",
          "name": "stdout",
          "text": [
            "Employee ID: 1001\n",
            "Employee Name: John\n",
            "Employee Salary: 5000\n",
            "Annual Salary: 60000\n",
            "Employee ID: 1001\n",
            "Employee Name: John Smith\n",
            "Employee Salary: 5500\n"
          ]
        }
      ]
    },
    {
      "cell_type": "markdown",
      "source": [
        "2. Bank Account Class: You can create a Bank Account class with methods like **deposit(), withdraw(), and get_balance()** that allow users to deposit, withdraw, and check the balance of their bank accounts."
      ],
      "metadata": {
        "id": "-4crMfswkLhI"
      }
    },
    {
      "cell_type": "code",
      "source": [
        "class BankAccount:\n",
        "    def __init__(self, account_number, account_holder, balance=0):\n",
        "        self.account_number = account_number\n",
        "        self.account_holder = account_holder\n",
        "        self.balance = balance\n",
        "\n",
        "    def deposit(self, amount):\n",
        "        # Deposit amount to the account\n",
        "        self.balance += amount\n",
        "\n",
        "    def withdraw(self, amount):\n",
        "        # Withdraw amount from the account\n",
        "        if self.balance >= amount:\n",
        "            self.balance -= amount\n",
        "        else:\n",
        "            print(\"Insufficient balance\")\n",
        "\n",
        "    def get_balance(self):\n",
        "        # Get current balance\n",
        "        return self.balance\n",
        "\n",
        "# Creating an instance of BankAccount class\n",
        "account1 = BankAccount(\"123456789\", \"John Smith\", 5000)\n",
        "\n",
        "# Calling methods on account1 object\n",
        "print(\"Current Balance:\", account1.get_balance())\n",
        "\n",
        "account1.deposit(2000)\n",
        "print(\"Updated Balance:\", account1.get_balance())\n",
        "\n",
        "account1.withdraw(3000)\n",
        "print(\"Updated Balance:\", account1.get_balance())\n"
      ],
      "metadata": {
        "colab": {
          "base_uri": "https://localhost:8080/"
        },
        "id": "OG7NDIArkRIW",
        "outputId": "ab13c9ca-1113-458f-afa1-b1fd11f063d1"
      },
      "execution_count": 13,
      "outputs": [
        {
          "output_type": "stream",
          "name": "stdout",
          "text": [
            "Current Balance: 5000\n",
            "Updated Balance: 7000\n",
            "Updated Balance: 4000\n"
          ]
        }
      ]
    },
    {
      "cell_type": "markdown",
      "source": [
        "3. Rectangle Class: You can create a Rectangle class with methods like **calculate_area(), calculate_perimeter(), and display_details()** that perform calculations related to the area, perimeter, and display details of rectangles."
      ],
      "metadata": {
        "id": "hweBXF1tkekN"
      }
    },
    {
      "cell_type": "code",
      "source": [
        "class Rectangle:\n",
        "    def __init__(self, length, width):\n",
        "        self.length = length\n",
        "        self.width = width\n",
        "\n",
        "    def calculate_area(self):\n",
        "        # Calculate area of the rectangle\n",
        "        return self.length * self.width\n",
        "\n",
        "    def calculate_perimeter(self):\n",
        "        # Calculate perimeter of the rectangle\n",
        "        return 2 * (self.length + self.width)\n",
        "\n",
        "    def display_details(self):\n",
        "        # Display rectangle details\n",
        "        print(\"Length:\", self.length)\n",
        "        print(\"Width:\", self.width)\n",
        "        print(\"Area:\", self.calculate_area())\n",
        "        print(\"Perimeter:\", self.calculate_perimeter())\n",
        "\n",
        "# Creating an instance of Rectangle class\n",
        "rectangle1 = Rectangle(10, 5)\n",
        "\n",
        "# Calling methods on rectangle1 object\n",
        "rectangle1.display_details()\n"
      ],
      "metadata": {
        "colab": {
          "base_uri": "https://localhost:8080/"
        },
        "id": "zRR0x0xXkdDe",
        "outputId": "be95dcc2-4d4d-4c3d-9406-d3cb5cffbf01"
      },
      "execution_count": 14,
      "outputs": [
        {
          "output_type": "stream",
          "name": "stdout",
          "text": [
            "Length: 10\n",
            "Width: 5\n",
            "Area: 50\n",
            "Perimeter: 30\n"
          ]
        }
      ]
    },
    {
      "cell_type": "markdown",
      "source": [
        "4. Example of a Student class with 4 data members: name, fname (father's name), roll_number, and marks. It includes getter and setter methods for each member, as well as a constructor to initialize the object. Then, an object is created and information about the student with the maximum marks is displayed."
      ],
      "metadata": {
        "id": "derMK6KhlUR0"
      }
    },
    {
      "cell_type": "code",
      "source": [
        "class Student:\n",
        "    def __init__(self, name, fname, roll_number, marks):\n",
        "        self.name = name\n",
        "        self.fname = fname\n",
        "        self.roll_number = roll_number\n",
        "        self.marks = marks\n",
        "\n",
        "    # Getter methods\n",
        "    def get_name(self):\n",
        "        return self.name\n",
        "\n",
        "    def get_fname(self):\n",
        "        return self.fname\n",
        "\n",
        "    def get_roll_number(self):\n",
        "        return self.roll_number\n",
        "\n",
        "    def get_marks(self):\n",
        "        return self.marks\n",
        "\n",
        "    # Setter methods\n",
        "    def set_name(self, name):\n",
        "        self.name = name\n",
        "\n",
        "    def set_fname(self, fname):\n",
        "        self.fname = fname\n",
        "\n",
        "    def set_roll_number(self, roll_number):\n",
        "        self.roll_number = roll_number\n",
        "\n",
        "    def set_marks(self, marks):\n",
        "        self.marks = marks\n",
        "\n",
        "# Create objects of Student class\n",
        "student1 = Student(\"John\", \"Smith\", 101, 95)\n",
        "student2 = Student(\"Emma\", \"Johnson\", 102, 88)\n",
        "student3 = Student(\"Michael\", \"Brown\", 103, 92)\n",
        "student4 = Student(\"Sophia\", \"Miller\", 104, 98)\n",
        "\n",
        "# Store student objects in a list\n",
        "students = [student1, student2, student3, student4]\n",
        "\n",
        "# Find student with maximum marks\n",
        "max_marks = 0\n",
        "top_student = None\n",
        "\n",
        "for student in students:\n",
        "    if student.get_marks() > max_marks:\n",
        "        max_marks = student.get_marks()\n",
        "        top_student = student\n",
        "\n",
        "# Display information of student with maximum marks\n",
        "if top_student:\n",
        "    print(\"Top Student Information:\")\n",
        "    print(\"Name:\", top_student.get_name())\n",
        "    print(\"Father's Name:\", top_student.get_fname())\n",
        "    print(\"Roll Number:\", top_student.get_roll_number())\n",
        "    print(\"Marks:\", top_student.get_marks())\n",
        "else:\n",
        "    print(\"No students found.\")\n"
      ],
      "metadata": {
        "colab": {
          "base_uri": "https://localhost:8080/"
        },
        "id": "k1cVJ4_llTZF",
        "outputId": "2e5482ca-f2fe-4016-c95a-e0d5f0cba4c0"
      },
      "execution_count": 15,
      "outputs": [
        {
          "output_type": "stream",
          "name": "stdout",
          "text": [
            "Top Student Information:\n",
            "Name: Sophia\n",
            "Father's Name: Miller\n",
            "Roll Number: 104\n",
            "Marks: 98\n"
          ]
        }
      ]
    },
    {
      "cell_type": "markdown",
      "source": [
        "Here's an updated version of the previous example that uses simple if-else statements instead of a loop and list to find the student with maximum marks:"
      ],
      "metadata": {
        "id": "_p7XSbQ-mFgT"
      }
    },
    {
      "cell_type": "code",
      "source": [
        "class Student:\n",
        "    def __init__(self, name, fname, roll_number, marks):\n",
        "        self.name = name\n",
        "        self.fname = fname\n",
        "        self.roll_number = roll_number\n",
        "        self.marks = marks\n",
        "\n",
        "    # Getter methods\n",
        "    def get_name(self):\n",
        "        return self.name\n",
        "\n",
        "    def get_fname(self):\n",
        "        return self.fname\n",
        "\n",
        "    def get_roll_number(self):\n",
        "        return self.roll_number\n",
        "\n",
        "    def get_marks(self):\n",
        "        return self.marks\n",
        "\n",
        "    # Setter methods\n",
        "    def set_name(self, name):\n",
        "        self.name = name\n",
        "\n",
        "    def set_fname(self, fname):\n",
        "        self.fname = fname\n",
        "\n",
        "    def set_roll_number(self, roll_number):\n",
        "        self.roll_number = roll_number\n",
        "\n",
        "    def set_marks(self, marks):\n",
        "        self.marks = marks\n",
        "\n",
        "# Create objects of Student class\n",
        "student1 = Student(\"John\", \"Smith\", 101, 95)\n",
        "student2 = Student(\"Emma\", \"Johnson\", 102, 88)\n",
        "student3 = Student(\"Michael\", \"Brown\", 103, 92)\n",
        "student4 = Student(\"Sophia\", \"Miller\", 104, 98)\n",
        "\n",
        "# Find student with maximum marks using if-else statements\n",
        "max_marks = 0\n",
        "top_student = None\n",
        "\n",
        "if student1.get_marks() > max_marks:\n",
        "    max_marks = student1.get_marks()\n",
        "    top_student = student1\n",
        "\n",
        "if student2.get_marks() > max_marks:\n",
        "    max_marks = student2.get_marks()\n",
        "    top_student = student2\n",
        "\n",
        "if student3.get_marks() > max_marks:\n",
        "    max_marks = student3.get_marks()\n",
        "    top_student = student3\n",
        "\n",
        "if student4.get_marks() > max_marks:\n",
        "    max_marks = student4.get_marks()\n",
        "    top_student = student4\n",
        "\n",
        "# Display information of student with maximum marks\n",
        "if top_student:\n",
        "    print(\"Top Student Information:\")\n",
        "    print(\"Name:\", top_student.get_name())\n",
        "    print(\"Father's Name:\", top_student.get_fname())\n",
        "    print(\"Roll Number:\", top_student.get_roll_number())\n",
        "    print(\"Marks:\", top_student.get_marks())\n",
        "else:\n",
        "    print(\"No students found.\")\n"
      ],
      "metadata": {
        "colab": {
          "base_uri": "https://localhost:8080/"
        },
        "id": "gSgbDV4TmIQp",
        "outputId": "50626b33-bcfa-44bc-ab35-d935cfefa32d"
      },
      "execution_count": 16,
      "outputs": [
        {
          "output_type": "stream",
          "name": "stdout",
          "text": [
            "Top Student Information:\n",
            "Name: Sophia\n",
            "Father's Name: Miller\n",
            "Roll Number: 104\n",
            "Marks: 98\n"
          ]
        }
      ]
    },
    {
      "cell_type": "markdown",
      "source": [
        "5. Employee class with four data members: name, emp_id, salary, and designation. The class also includes getter and setter methods for each data member, as well as a constructor. We can then create objects of the Employee class and find the employee with the highest salary using if-else statements"
      ],
      "metadata": {
        "id": "wcSqhHz9mvQs"
      }
    },
    {
      "cell_type": "code",
      "source": [
        "class Employee:\n",
        "    def __init__(self, name, emp_id, salary, designation):\n",
        "        self.name = name\n",
        "        self.emp_id = emp_id\n",
        "        self.salary = salary\n",
        "        self.designation = designation\n",
        "\n",
        "    # Getter methods\n",
        "    def get_name(self):\n",
        "        return self.name\n",
        "\n",
        "    def get_emp_id(self):\n",
        "        return self.emp_id\n",
        "\n",
        "    def get_salary(self):\n",
        "        return self.salary\n",
        "\n",
        "    def get_designation(self):\n",
        "        return self.designation\n",
        "\n",
        "    # Setter methods\n",
        "    def set_name(self, name):\n",
        "        self.name = name\n",
        "\n",
        "    def set_emp_id(self, emp_id):\n",
        "        self.emp_id = emp_id\n",
        "\n",
        "    def set_salary(self, salary):\n",
        "        self.salary = salary\n",
        "\n",
        "    def set_designation(self, designation):\n",
        "        self.designation = designation\n",
        "\n",
        "# Create objects of Employee class\n",
        "employee1 = Employee(\"John Doe\", 101, 5000, \"Manager\")\n",
        "employee2 = Employee(\"Jane Smith\", 102, 6000, \"Senior Developer\")\n",
        "employee3 = Employee(\"Michael Brown\", 103, 4500, \"Junior Developer\")\n",
        "employee4 = Employee(\"Sophia Miller\", 104, 5500, \"Software Tester\")\n",
        "\n",
        "# Find employee with highest salary using if-else statements\n",
        "max_salary = 0\n",
        "top_employee = None\n",
        "\n",
        "if employee1.get_salary() > max_salary:\n",
        "    max_salary = employee1.get_salary()\n",
        "    top_employee = employee1\n",
        "\n",
        "if employee2.get_salary() > max_salary:\n",
        "    max_salary = employee2.get_salary()\n",
        "    top_employee = employee2\n",
        "\n",
        "if employee3.get_salary() > max_salary:\n",
        "    max_salary = employee3.get_salary()\n",
        "    top_employee = employee3\n",
        "\n",
        "if employee4.get_salary() > max_salary:\n",
        "    max_salary = employee4.get_salary()\n",
        "    top_employee = employee4\n",
        "\n",
        "# Display information of employee with highest salary\n",
        "if top_employee:\n",
        "    print(\"Employee with Highest Salary:\")\n",
        "    print(\"Name:\", top_employee.get_name())\n",
        "    print(\"Employee ID:\", top_employee.get_emp_id())\n",
        "    print(\"Salary:\", top_employee.get_salary())\n",
        "    print(\"Designation:\", top_employee.get_designation())\n",
        "else:\n",
        "    print(\"No employees found.\")\n"
      ],
      "metadata": {
        "colab": {
          "base_uri": "https://localhost:8080/"
        },
        "id": "Yn3xkiX3mysr",
        "outputId": "91327bc3-a6e9-4e20-8ba8-810adcfe58f0"
      },
      "execution_count": 17,
      "outputs": [
        {
          "output_type": "stream",
          "name": "stdout",
          "text": [
            "Employee with Highest Salary:\n",
            "Name: Jane Smith\n",
            "Employee ID: 102\n",
            "Salary: 6000\n",
            "Designation: Senior Developer\n"
          ]
        }
      ]
    },
    {
      "cell_type": "markdown",
      "source": [
        "# Access modifiers and properties in Python classes\n",
        "Access modifiers and properties in Python classes are used to control the visibility and accessibility of class members, such as attributes and methods. They help in encapsulation and provide control over how class members can be accessed and modified from outside the class.\n",
        "\n",
        "**In Python, there are three main access modifiers:**\n",
        "\n",
        "**Public:** Members declared as public are accessible from anywhere, both within the class and outside the class. In Python, by default, all class members are public.\n",
        "\n",
        "**Private:** Members declared as private are only accessible within the class itself. They are denoted by using double underscores (__ ) before the member name. \n",
        "For example, __private_member.\n",
        "\n",
        "**Protected:** Members declared as protected are accessible within the class and its subclasses (inheritance), but not from outside the class. They are denoted by using a single underscore (_ ) before the member name. For example, _protected_member.\n",
        "\n"
      ],
      "metadata": {
        "id": "cTpiTA57nGsL"
      }
    },
    {
      "cell_type": "markdown",
      "source": [
        "**Properties are special methods in Python** classes that allow us to define getter and setter methods for class attributes, which can be accessed and modified like regular attributes, but they can also have additional logic or validation. Properties are used to provide a controlled way of accessing and modifying class attributes.\n",
        "\n",
        "Here's an example of a class in Python that demonstrates the use of access modifiers and properties:"
      ],
      "metadata": {
        "id": "JwmWGpIbngDm"
      }
    },
    {
      "cell_type": "code",
      "source": [
        "class Student:\n",
        "    def __init__(self, fname, roll_number, marks):\n",
        "        self.__fname = fname   # Private attribute\n",
        "        self._roll_number = roll_number   # Protected attribute\n",
        "        self.marks = marks   # Public attribute\n",
        "\n",
        "    # Getter methods\n",
        "    def get_fname(self):\n",
        "        return self.__fname\n",
        "\n",
        "    def get_roll_number(self):\n",
        "        return self._roll_number\n",
        "\n",
        "    # Setter methods\n",
        "    def set_fname(self, fname):\n",
        "        self.__fname = fname\n",
        "\n",
        "    def set_roll_number(self, roll_number):\n",
        "        self._roll_number = roll_number\n",
        "\n",
        "    # Property\n",
        "    @property\n",
        "    def total_marks(self):\n",
        "        return sum(self.marks)\n",
        "\n",
        "    # Property with setter\n",
        "    @property\n",
        "    def fname(self):\n",
        "        return self.__fname\n",
        "\n",
        "    @fname.setter\n",
        "    def fname(self, fname):\n",
        "        if len(fname) > 5:\n",
        "            print(\"Error: First name should not exceed 5 characters.\")\n",
        "        else:\n",
        "            self.__fname = fname\n"
      ],
      "metadata": {
        "id": "GRhKBqUVnFj6"
      },
      "execution_count": 18,
      "outputs": []
    },
    {
      "cell_type": "markdown",
      "source": [
        "In this example, the class Student has three attributes: __fname (private), _roll_number (protected), and marks (public). The class also has getter and setter methods for __fname and _roll_number. Additionally, the class has a property total_marks that calculates the sum of the marks, and a property fname that has a setter method to validate and set the first name with a maximum length of 5 characters.\n",
        "\n",
        "\n",
        "**Note:** It's important to follow conventions when using access modifiers in Python. Although Python allows accessing and modifying private and protected members from outside the class, it is generally considered best practice to use them as intended for encapsulation and to avoid direct access from outside the class."
      ],
      "metadata": {
        "id": "g142CW7vntus"
      }
    },
    {
      "cell_type": "markdown",
      "source": [
        "1. Here's an example of how you can create objects of the Student class and display the maximum marks using if-else statements:"
      ],
      "metadata": {
        "id": "3-F33OhhoRfT"
      }
    },
    {
      "cell_type": "code",
      "source": [
        "# Student class with properties\n",
        "class Student:\n",
        "    def __init__(self, fname, roll_number, marks):\n",
        "        self.__fname = fname   # Private attribute\n",
        "        self._roll_number = roll_number   # Protected attribute\n",
        "        self.marks = marks   # Public attribute\n",
        "\n",
        "    # Getter methods\n",
        "    @property\n",
        "    def fname(self):\n",
        "        return self.__fname\n",
        "\n",
        "    @property\n",
        "    def roll_number(self):\n",
        "        return self._roll_number\n",
        "\n",
        "    # Setter methods\n",
        "    @fname.setter\n",
        "    def fname(self, fname):\n",
        "        if len(fname) > 5:\n",
        "            print(\"Error: First name should not exceed 5 characters.\")\n",
        "        else:\n",
        "            self.__fname = fname\n",
        "\n",
        "    @roll_number.setter\n",
        "    def roll_number(self, roll_number):\n",
        "        self._roll_number = roll_number\n",
        "\n",
        "    # Property\n",
        "    @property\n",
        "    def total_marks(self):\n",
        "        return sum(self.marks)\n",
        "\n",
        "\n",
        "# Creating 5 Student objects\n",
        "student1 = Student(\"John\", 101, [95, 88, 76, 92])\n",
        "student2 = Student(\"Alice\", 102, [90, 92, 88, 94])\n",
        "student3 = Student(\"Bob\", 103, [85, 90, 92, 88])\n",
        "student4 = Student(\"Charlie\", 104, [92, 88, 86, 90])\n",
        "student5 = Student(\"David\", 105, [88, 90, 95, 92])\n",
        "\n",
        "# Displaying maximum marks using if-else\n",
        "max_marks = 0\n",
        "max_student = None\n",
        "\n",
        "# Checking marks for each student\n",
        "if student1.total_marks > max_marks:\n",
        "    max_marks = student1.total_marks\n",
        "    max_student = student1\n",
        "\n",
        "if student2.total_marks > max_marks:\n",
        "    max_marks = student2.total_marks\n",
        "    max_student = student2\n",
        "\n",
        "if student3.total_marks > max_marks:\n",
        "    max_marks = student3.total_marks\n",
        "    max_student = student3\n",
        "\n",
        "if student4.total_marks > max_marks:\n",
        "    max_marks = student4.total_marks\n",
        "    max_student = student4\n",
        "\n",
        "if student5.total_marks > max_marks:\n",
        "    max_marks = student5.total_marks\n",
        "    max_student = student5\n",
        "\n",
        "# Displaying the student with maximum marks\n",
        "if max_student is not None:\n",
        "    print(\"Student with maximum marks:\")\n",
        "    print(\"Name: \", max_student.fname)\n",
        "    print(\"Roll Number: \", max_student.roll_number)\n",
        "    print(\"Total Marks: \", max_student.total_marks)\n",
        "else:\n",
        "    print(\"No student found.\")    \n"
      ],
      "metadata": {
        "colab": {
          "base_uri": "https://localhost:8080/"
        },
        "id": "T2YgxL3poUql",
        "outputId": "fea1a885-bb62-4eb1-83f3-407842e899aa"
      },
      "execution_count": 19,
      "outputs": [
        {
          "output_type": "stream",
          "name": "stdout",
          "text": [
            "Student with maximum marks:\n",
            "Name:  David\n",
            "Roll Number:  105\n",
            "Total Marks:  365\n"
          ]
        }
      ]
    },
    {
      "cell_type": "markdown",
      "source": [
        "In this example, we create 5 objects of the Student class with different names, roll numbers, and marks. We then use if-else statements to check the total marks of each student and find the student with the maximum marks. Finally, we display the student's information if a student with maximum marks is found, otherwise, we display a message indicating that no student was found."
      ],
      "metadata": {
        "id": "473IJBdvoiOK"
      }
    },
    {
      "cell_type": "markdown",
      "source": [
        "Here's an example of how you can create a Student class with private data members and use property to access them:"
      ],
      "metadata": {
        "id": "CmW9xPNgo2ux"
      }
    },
    {
      "cell_type": "code",
      "source": [
        "# Student class with private data members\n",
        "class Student:\n",
        "    def __init__(self, fname, roll_number, marks):\n",
        "        self.__fname = fname   # Private attribute\n",
        "        self.__roll_number = roll_number   # Private attribute\n",
        "        self.__marks = marks   # Private attribute\n",
        "\n",
        "    # Getter methods using property\n",
        "    @property\n",
        "    def fname(self):\n",
        "        return self.__fname\n",
        "\n",
        "    @property\n",
        "    def roll_number(self):\n",
        "        return self.__roll_number\n",
        "\n",
        "    @property\n",
        "    def marks(self):\n",
        "        return self.__marks\n",
        "\n",
        "    # Property for total marks\n",
        "    @property\n",
        "    def total_marks(self):\n",
        "        return sum(self.__marks)\n",
        "\n",
        "\n",
        "# Creating 5 Student objects\n",
        "student1 = Student(\"John\", 101, [95, 88, 76, 92])\n",
        "student2 = Student(\"Alice\", 102, [90, 92, 88, 94])\n",
        "student3 = Student(\"Bob\", 103, [85, 90, 92, 88])\n",
        "student4 = Student(\"Charlie\", 104, [92, 88, 86, 90])\n",
        "student5 = Student(\"David\", 105, [88, 90, 95, 92])\n",
        "\n",
        "# Displaying maximum marks using if-else\n",
        "max_marks = 0\n",
        "max_student = None\n",
        "\n",
        "# Checking marks for each student\n",
        "if student1.total_marks > max_marks:\n",
        "    max_marks = student1.total_marks\n",
        "    max_student = student1\n",
        "\n",
        "if student2.total_marks > max_marks:\n",
        "    max_marks = student2.total_marks\n",
        "    max_student = student2\n",
        "\n",
        "if student3.total_marks > max_marks:\n",
        "    max_marks = student3.total_marks\n",
        "    max_student = student3\n",
        "\n",
        "if student4.total_marks > max_marks:\n",
        "    max_marks = student4.total_marks\n",
        "    max_student = student4\n",
        "\n",
        "if student5.total_marks > max_marks:\n",
        "    max_marks = student5.total_marks\n",
        "    max_student = student5\n",
        "\n",
        "# Displaying the student with maximum marks\n",
        "if max_student is not None:\n",
        "    print(\"Student with maximum marks:\")\n",
        "    print(\"Name: \", max_student.fname)\n",
        "    print(\"Roll Number: \", max_student.roll_number)\n",
        "    print(\"Total Marks: \", max_student.total_marks)\n",
        "else:\n",
        "    print(\"No student found.\")\n"
      ],
      "metadata": {
        "colab": {
          "base_uri": "https://localhost:8080/"
        },
        "id": "qR34NN7So6BK",
        "outputId": "967c8977-4176-45bf-aea5-127ea2b56bc6"
      },
      "execution_count": 20,
      "outputs": [
        {
          "output_type": "stream",
          "name": "stdout",
          "text": [
            "Student with maximum marks:\n",
            "Name:  David\n",
            "Roll Number:  105\n",
            "Total Marks:  365\n"
          ]
        }
      ]
    },
    {
      "cell_type": "markdown",
      "source": [
        "2. Here's an example of a Doctor class with private data members and a property to access them, along with an example of creating objects and finding the doctor with the highest experience:\n",
        "\n",
        "The statement of the program is as follows:\n",
        "\n",
        "Define a Doctor class with private data members for name, specialization, and experience using double underscores before their names.\n",
        "\n",
        "Use property decorators to define getter methods for the private data members.\n",
        "\n",
        "Create objects of the Doctor class with different values for name, specialization, and experience.\n",
        "\n",
        "Access the private data members of the Doctor objects using the getter methods.\n",
        "\n",
        "Find the doctor with the highest experience by comparing the total experience of each doctor using if-else statements.\n",
        "\n",
        "Display the information of the doctor with the highest experience, including their name, specialization, and total experience, or display a message \n",
        "\n",
        "indicating that no doctor was found with the highest experience."
      ],
      "metadata": {
        "id": "pnA5JSsvpTfI"
      }
    },
    {
      "cell_type": "code",
      "source": [
        "# Doctor class with private data members\n",
        "class Doctor:\n",
        "    def __init__(self, name, specialization, experience):\n",
        "        self.__name = name   # Private attribute\n",
        "        self.__specialization = specialization   # Private attribute\n",
        "        self.__experience = experience   # Private attribute\n",
        "\n",
        "    # Getter methods using property\n",
        "    @property\n",
        "    def name(self):\n",
        "        return self.__name\n",
        "\n",
        "    @property\n",
        "    def specialization(self):\n",
        "        return self.__specialization\n",
        "\n",
        "    @property\n",
        "    def experience(self):\n",
        "        return self.__experience\n",
        "\n",
        "    # Property for total experience\n",
        "    @property\n",
        "    def total_experience(self):\n",
        "        return sum(self.__experience)\n",
        "\n",
        "\n",
        "# Creating 5 Doctor objects\n",
        "doctor1 = Doctor(\"Dr. Smith\", \"Cardiologist\", [5, 4, 6, 8])\n",
        "doctor2 = Doctor(\"Dr. Johnson\", \"Dermatologist\", [3, 6, 4, 7])\n",
        "doctor3 = Doctor(\"Dr. Brown\", \"Pediatrician\", [7, 8, 5, 6])\n",
        "doctor4 = Doctor(\"Dr. Davis\", \"Neurologist\", [6, 7, 6, 5])\n",
        "doctor5 = Doctor(\"Dr. Wilson\", \"Orthopedic Surgeon\", [8, 5, 7, 4])\n",
        "\n",
        "# Finding doctor with highest experience\n",
        "max_experience = 0\n",
        "max_doctor = None\n",
        "\n",
        "# Checking experience for each doctor\n",
        "if doctor1.total_experience > max_experience:\n",
        "    max_experience = doctor1.total_experience\n",
        "    max_doctor = doctor1\n",
        "\n",
        "if doctor2.total_experience > max_experience:\n",
        "    max_experience = doctor2.total_experience\n",
        "    max_doctor = doctor2\n",
        "\n",
        "if doctor3.total_experience > max_experience:\n",
        "    max_experience = doctor3.total_experience\n",
        "    max_doctor = doctor3\n",
        "\n",
        "if doctor4.total_experience > max_experience:\n",
        "    max_experience = doctor4.total_experience\n",
        "    max_doctor = doctor4\n",
        "\n",
        "if doctor5.total_experience > max_experience:\n",
        "    max_experience = doctor5.total_experience\n",
        "    max_doctor = doctor5\n",
        "\n",
        "# Displaying the doctor with highest experience\n",
        "if max_doctor is not None:\n",
        "    print(\"Doctor with highest experience:\")\n",
        "    print(\"Name: \", max_doctor.name)\n",
        "    print(\"Specialization: \", max_doctor.specialization)\n",
        "    print(\"Total Experience: \", max_doctor.total_experience)\n",
        "else:\n",
        "    print(\"No doctor found.\")\n"
      ],
      "metadata": {
        "colab": {
          "base_uri": "https://localhost:8080/"
        },
        "id": "rmLlBG-OpXsH",
        "outputId": "eb8e1497-7ab3-4010-f91c-5f527f63afb0"
      },
      "execution_count": 21,
      "outputs": [
        {
          "output_type": "stream",
          "name": "stdout",
          "text": [
            "Doctor with highest experience:\n",
            "Name:  Dr. Brown\n",
            "Specialization:  Pediatrician\n",
            "Total Experience:  26\n"
          ]
        }
      ]
    },
    {
      "cell_type": "markdown",
      "source": [
        "# Best practices for writing classes and objects\n",
        "\n",
        "Here are some best practices for writing classes and objects in Python:\n",
        "\n",
        "1. Follow the naming conventions: Use descriptive and meaningful names for classes, objects, methods, and attributes. Follow the Python naming conventions, such as using lowercase letters for variable and method names, and uppercase letters for class names.\n",
        "\n",
        "2. Keep classes focused: Follow the Single Responsibility Principle (SRP) and keep classes focused on a single task or responsibility. Avoid creating monolithic classes that do too many things, as it can lead to code complexity and maintainability issues.\n",
        "\n",
        "3. Use encapsulation: Encapsulate data members by using appropriate access modifiers, such as public, private, and protected, to control their visibility and prevent direct access from outside the class. Use getter and setter methods to access and modify the data members of a class.\n",
        "\n",
        "4. Use inheritance and composition: Use inheritance and composition to create relationships between classes and promote code reuse. Inheritance allows classes to inherit properties and methods from a parent class, while composition allows classes to contain objects of other classes as attributes.\n",
        "\n",
        "5. Follow the DRY principle: Avoid duplication of code and follow the Don't Repeat Yourself (DRY) principle. Create reusable methods and inherit from common base classes to avoid duplicating code across classes.\n",
        "\n",
        "6. Use comments and documentation: Add comments and documentation to your code to make it easy to understand, especially for complex classes or methods. Use docstrings to provide documentation for classes, methods, and attributes to make it easier for others (and yourself) to understand their purpose and usage.\n",
        "\n",
        "7. Test your classes: Write unit tests for your classes to ensure their functionality and catch any potential bugs or issues early in the development process. Use a testing framework, such as unittest or pytest, to write and run tests for your classes.\n",
        "\n",
        "8. Follow PEP 8 guidelines: Follow the Python Enhancement Proposal (PEP) 8 guidelines for writing clean, readable, and well-formatted Python code. This includes using consistent indentation, proper spacing, and following naming conventions.\n",
        "\n",
        "9. Keep it simple: Keep your classes and objects simple and focused on their intended purpose. Avoid unnecessary complexity and strive for simplicity in your code design.\n",
        "\n",
        "10. Continuously improve: Continuously review and improve your classes and objects as your project evolves. Refactor your code, remove unnecessary code, and optimize for performance and maintainability as needed.\n",
        "\n",
        "By following these best practices, you can write clean, efficient, and maintainable classes and objects in Python, leading to more robust and scalable software development."
      ],
      "metadata": {
        "id": "2QdcxSSVp8H5"
      }
    }
  ]
}