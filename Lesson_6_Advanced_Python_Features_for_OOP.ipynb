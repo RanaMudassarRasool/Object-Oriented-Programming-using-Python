{
  "nbformat": 4,
  "nbformat_minor": 0,
  "metadata": {
    "colab": {
      "provenance": [],
      "authorship_tag": "ABX9TyOAi0BuFXAIst62/VAQNfw1",
      "include_colab_link": true
    },
    "kernelspec": {
      "name": "python3",
      "display_name": "Python 3"
    },
    "language_info": {
      "name": "python"
    }
  },
  "cells": [
    {
      "cell_type": "markdown",
      "metadata": {
        "id": "view-in-github",
        "colab_type": "text"
      },
      "source": [
        "<a href=\"https://colab.research.google.com/github/ranamaddy/Object-Oriented-Programming-using-Python/blob/main/Lesson_6_Advanced_Python_Features_for_OOP.ipynb\" target=\"_parent\"><img src=\"https://colab.research.google.com/assets/colab-badge.svg\" alt=\"Open In Colab\"/></a>"
      ]
    },
    {
      "cell_type": "markdown",
      "source": [
        "# Lesson 6: Advanced Python Features for OOP\n",
        "\n",
        "- Understanding Python's built-in functions and libraries for OOP\n",
        "- Working with modules, packages, and namespaces\n",
        "- Implementing iterators, generators, and context managers in Python\n",
        "- Using decorators and metaclasses to enhance OOP programs"
      ],
      "metadata": {
        "id": "2u4rOAkApvOU"
      }
    },
    {
      "cell_type": "markdown",
      "source": [
        "This lesson covers advanced Python features that can enhance object-oriented programming (OOP) in Python. The topics covered in this lesson include:\n",
        "\n",
        "1. **Understanding Python's built-in functions and libraries for OOP**: Python provides several built-in functions and libraries that are specifically designed for OOP. These functions and libraries can help in tasks such as object introspection, dynamic attribute manipulation, and class creation at runtime.\n",
        "\n",
        "2.  **Working with modules, packages, and namespaces:** Modules and packages are fundamental building blocks in Python for organizing and reusing code. Understanding how to create, import, and use modules and packages can greatly improve code organization and reusability. Namespaces in Python determine the visibility and accessibility of variables, functions, and classes within different scopes.\n",
        "\n",
        "3. **Implementing iterators, generators, and context managers in Python**: Iterators, generators, and context managers are advanced features in Python that can enhance the functionality and performance of code. Iterators allow for efficient traversal of data collections, generators allow for lazy evaluation of data, and context managers help in managing resources such as files and network connections.\n",
        "\n",
        "4. **Using decorators and metaclasses to enhance OOP programs**: Decorators and metaclasses are powerful techniques in Python that can modify the behavior of classes and objects at runtime. Decorators allow for adding additional functionality to methods or classes, while metaclasses allow for customizing the behavior of class creation and initialization.\n",
        "\n",
        "Understanding and effectively using these advanced features in Python can help in writing more efficient, modular, and powerful OOP programs. These features provide additional flexibility and extensibility to Python code, allowing for advanced customization and abstraction."
      ],
      "metadata": {
        "id": "ckq0zwAZqPDh"
      }
    },
    {
      "cell_type": "markdown",
      "source": [
        "# Understanding Python's built-in functions and libraries for OOP"
      ],
      "metadata": {
        "id": "I4_nrLG5qoGg"
      }
    },
    {
      "cell_type": "code",
      "execution_count": 1,
      "metadata": {
        "colab": {
          "base_uri": "https://localhost:8080/"
        },
        "id": "dEp97hTppp3z",
        "outputId": "bd4d943d-9dd0-4b1e-cb0e-0b4771f6cd24"
      },
      "outputs": [
        {
          "output_type": "stream",
          "name": "stdout",
          "text": [
            "True\n",
            "True\n",
            "[('__class__', <class 'type'>), ('__delattr__', <slot wrapper '__delattr__' of 'object' objects>), ('__dict__', mappingproxy({'__module__': '__main__', '__init__': <function Rectangle.__init__ at 0x7f7414871dc0>, 'get_area': <function Rectangle.get_area at 0x7f7414871d30>, 'get_perimeter': <function Rectangle.get_perimeter at 0x7f7414014820>, '__dict__': <attribute '__dict__' of 'Rectangle' objects>, '__weakref__': <attribute '__weakref__' of 'Rectangle' objects>, '__doc__': None})), ('__dir__', <method '__dir__' of 'object' objects>), ('__doc__', None), ('__eq__', <slot wrapper '__eq__' of 'object' objects>), ('__format__', <method '__format__' of 'object' objects>), ('__ge__', <slot wrapper '__ge__' of 'object' objects>), ('__getattribute__', <slot wrapper '__getattribute__' of 'object' objects>), ('__gt__', <slot wrapper '__gt__' of 'object' objects>), ('__hash__', <slot wrapper '__hash__' of 'object' objects>), ('__init__', <function Rectangle.__init__ at 0x7f7414871dc0>), ('__init_subclass__', <built-in method __init_subclass__ of type object at 0x1e6a870>), ('__le__', <slot wrapper '__le__' of 'object' objects>), ('__lt__', <slot wrapper '__lt__' of 'object' objects>), ('__module__', '__main__'), ('__ne__', <slot wrapper '__ne__' of 'object' objects>), ('__new__', <built-in method __new__ of type object at 0x94e420>), ('__reduce__', <method '__reduce__' of 'object' objects>), ('__reduce_ex__', <method '__reduce_ex__' of 'object' objects>), ('__repr__', <slot wrapper '__repr__' of 'object' objects>), ('__setattr__', <slot wrapper '__setattr__' of 'object' objects>), ('__sizeof__', <method '__sizeof__' of 'object' objects>), ('__str__', <slot wrapper '__str__' of 'object' objects>), ('__subclasshook__', <built-in method __subclasshook__ of type object at 0x1e6a870>), ('__weakref__', <attribute '__weakref__' of 'Rectangle' objects>), ('get_area', <function Rectangle.get_area at 0x7f7414871d30>), ('get_perimeter', <function Rectangle.get_perimeter at 0x7f7414014820>)]\n"
          ]
        }
      ],
      "source": [
        "class Rectangle:\n",
        "    def __init__(self, width, height):\n",
        "        self._width = width\n",
        "        self._height = height\n",
        "\n",
        "    def get_area(self):\n",
        "        return self._width * self._height\n",
        "\n",
        "    def get_perimeter(self):\n",
        "        return 2 * (self._width + self._height)\n",
        "\n",
        "# Using built-in functions\n",
        "print(isinstance(Rectangle(5, 10), Rectangle))  # True\n",
        "print(issubclass(Rectangle, object))  # True\n",
        "\n",
        "# Using built-in libraries\n",
        "import inspect\n",
        "\n",
        "print(inspect.getmembers(Rectangle))  # Get members of Rectangle class\n"
      ]
    },
    {
      "cell_type": "markdown",
      "source": [
        "**In this example,** we have a Rectangle class that represents a rectangle shape. We use the isinstance() function to check if an object is an instance of the Rectangle class. We also use the issubclass() function to check if the Rectangle class is a subclass of the object class, which is the base class for all classes in Python. Additionally, we use the inspect module to get the members (attributes and methods) of the Rectangle class"
      ],
      "metadata": {
        "id": "yrFJr8m-q4ww"
      }
    },
    {
      "cell_type": "markdown",
      "source": [
        "**Here's another example of using Python's built-in functions and libraries for OOP**"
      ],
      "metadata": {
        "id": "khYLMYpkrBNL"
      }
    },
    {
      "cell_type": "code",
      "source": [
        "class Circle:\n",
        "    def __init__(self, radius):\n",
        "        self._radius = radius\n",
        "\n",
        "    def get_area(self):\n",
        "        return 3.14 * (self._radius ** 2)\n",
        "\n",
        "    def get_circumference(self):\n",
        "        return 2 * 3.14 * self._radius\n",
        "\n",
        "# Using built-in functions\n",
        "print(type(Circle(5)))  # <class '__main__.Circle'>\n",
        "print(dir(Circle(5)))  # Get attributes and methods of Circle object\n",
        "\n",
        "# Using built-in libraries\n",
        "import math\n",
        "\n",
        "print(math.isclose(Circle(5).get_area(), 78.5, rel_tol=0.01))  # Check if area is close to 78.5\n"
      ],
      "metadata": {
        "colab": {
          "base_uri": "https://localhost:8080/"
        },
        "id": "BBh-0pfcrEB0",
        "outputId": "0d02b196-a4ff-402c-a66e-cf947211f92a"
      },
      "execution_count": 2,
      "outputs": [
        {
          "output_type": "stream",
          "name": "stdout",
          "text": [
            "<class '__main__.Circle'>\n",
            "['__class__', '__delattr__', '__dict__', '__dir__', '__doc__', '__eq__', '__format__', '__ge__', '__getattribute__', '__gt__', '__hash__', '__init__', '__init_subclass__', '__le__', '__lt__', '__module__', '__ne__', '__new__', '__reduce__', '__reduce_ex__', '__repr__', '__setattr__', '__sizeof__', '__str__', '__subclasshook__', '__weakref__', '_radius', 'get_area', 'get_circumference']\n",
            "True\n"
          ]
        }
      ]
    },
    {
      "cell_type": "markdown",
      "source": [
        "**In this example**, we have a Circle class that represents a circle shape. We use the type() function to get the type of an object, in this case, the type of a Circle object. We also use the dir() function to get the attributes and methods of a Circle object, which can be useful for introspection and debugging. Additionally, we use the math module to perform a close comparison of the calculated area of the circle with a target value, using the math.isclose() function.\n",
        "\n",
        "These built-in functions and libraries offer a wide range of capabilities for working with objects, types, and mathematical operations, allowing for more advanced and flexible OOP programming in Python"
      ],
      "metadata": {
        "id": "Rt_iKsCgrH7A"
      }
    },
    {
      "cell_type": "markdown",
      "source": [
        "# Working with modules, packages, and namespaces\n",
        "\n",
        "Working with modules, packages, and namespaces in Python involves organizing and structuring code into reusable and manageable components. Here's an example:"
      ],
      "metadata": {
        "id": "6ow-5t4hrO_C"
      }
    },
    {
      "cell_type": "code",
      "source": [
        "# Module: my_module.py\n",
        "\n",
        "def greet(name):\n",
        "    return f\"Hello, {name}!\"\n",
        "\n",
        "def farewell(name):\n",
        "    return f\"Goodbye, {name}!\"\n",
        "\n",
        "# Package: my_package/\n",
        "#           __init__.py\n",
        "#           greetings.py\n",
        "#           farewells.py\n",
        "\n",
        "# File: __init__.py (Empty file used to mark the directory as a Python package)\n",
        "\n",
        "# File: greetings.py (Module within the package)\n",
        "def greet_morning(name):\n",
        "    return f\"Good morning, {name}!\"\n",
        "\n",
        "def greet_evening(name):\n",
        "    return f\"Good evening, {name}!\"\n",
        "\n",
        "# File: farewells.py (Module within the package)\n",
        "def farewell_morning(name):\n",
        "    return f\"Goodbye in the morning, {name}!\"\n",
        "\n",
        "def farewell_evening(name):\n",
        "    return f\"Goodbye in the evening, {name}!\"\n"
      ],
      "metadata": {
        "id": "eZCdUXQ5rVf-"
      },
      "execution_count": 3,
      "outputs": []
    },
    {
      "cell_type": "markdown",
      "source": [
        "**In this example**, we have a module named my_module.py that contains two functions, greet() and farewell(). We can import and use these functions in other Python scripts using the import statement.\n",
        "\n",
        "We also have a package named my_package which is a directory containing an empty __init__.py file, and two module files, greetings.py and farewells.py. These modules are organized within the package and can be imported and used in other scripts as well.\n",
        "\n",
        "Using modules and packages allows us to organize code into logical units, facilitate code reusability, and improve code maintenance. It also helps in avoiding naming conflicts and provides a way to create namespaces for encapsulating code functionality."
      ],
      "metadata": {
        "id": "7-atU38VrZGN"
      }
    },
    {
      "cell_type": "markdown",
      "source": [
        "# Implementing iterators, generators, and context managers in Python\n",
        "\n",
        "Implementing iterators, generators, and context managers in Python are advanced features that allow for more efficient and controlled handling of data and resources. Here's an example:\n",
        "1. **Iterators:**"
      ],
      "metadata": {
        "id": "1tE49W5urkNL"
      }
    },
    {
      "cell_type": "code",
      "source": [
        "class MyIterator:\n",
        "    def __init__(self, start, end):\n",
        "        self.start = start\n",
        "        self.end = end\n",
        "\n",
        "    def __iter__(self):\n",
        "        return self\n",
        "\n",
        "    def __next__(self):\n",
        "        if self.start <= self.end:\n",
        "            value = self.start\n",
        "            self.start += 1\n",
        "            return value\n",
        "        else:\n",
        "            raise StopIteration\n",
        "\n",
        "my_iter = MyIterator(1, 5)\n",
        "for num in my_iter:\n",
        "    print(num)\n"
      ],
      "metadata": {
        "colab": {
          "base_uri": "https://localhost:8080/"
        },
        "id": "KSELkjvxrr9W",
        "outputId": "49d24e1f-7ae3-461f-ff14-3998f9d5880e"
      },
      "execution_count": 4,
      "outputs": [
        {
          "output_type": "stream",
          "name": "stdout",
          "text": [
            "1\n",
            "2\n",
            "3\n",
            "4\n",
            "5\n"
          ]
        }
      ]
    },
    {
      "cell_type": "markdown",
      "source": [
        "**In this example**, we define a custom iterator MyIterator that iterates over a range of numbers from start to end. The __iter__() method returns the iterator object itself, and the __next__() method returns the next value in the iteration. When there are no more items to be returned, a StopIteration exception is raised to signal the end of iteration."
      ],
      "metadata": {
        "id": "i_9P1c2-ruOD"
      }
    },
    {
      "cell_type": "markdown",
      "source": [
        "2. **Generators:**"
      ],
      "metadata": {
        "id": "rGk-nW1qry31"
      }
    },
    {
      "cell_type": "code",
      "source": [
        "def my_generator(start, end):\n",
        "    while start <= end:\n",
        "        yield start\n",
        "        start += 1\n",
        "\n",
        "for num in my_generator(1, 5):\n",
        "    print(num)\n"
      ],
      "metadata": {
        "colab": {
          "base_uri": "https://localhost:8080/"
        },
        "id": "hVqD6Bour19A",
        "outputId": "b996e4e2-566b-4af9-e047-282f5e9b692d"
      },
      "execution_count": 5,
      "outputs": [
        {
          "output_type": "stream",
          "name": "stdout",
          "text": [
            "1\n",
            "2\n",
            "3\n",
            "4\n",
            "5\n"
          ]
        }
      ]
    },
    {
      "cell_type": "markdown",
      "source": [
        "**In this example**, we define a generator function my_generator that uses the yield statement to produce values in a sequence. The generator function can be iterated over using a for loop, and it automatically suspends and resumes its execution as needed, saving memory and allowing for lazy evaluation of values."
      ],
      "metadata": {
        "id": "7jo-w2amr5fd"
      }
    },
    {
      "cell_type": "markdown",
      "source": [
        "3. **Context Managers**:"
      ],
      "metadata": {
        "id": "QMmta00Ur8G-"
      }
    },
    {
      "cell_type": "code",
      "source": [
        "class MyContext:\n",
        "    def __enter__(self):\n",
        "        print(\"Entering the context\")\n",
        "        return self\n",
        "\n",
        "    def __exit__(self, exc_type, exc_val, exc_tb):\n",
        "        print(\"Exiting the context\")\n",
        "        if exc_type is not None:\n",
        "            print(f\"Exception of type {exc_type} occurred with value {exc_val}\")\n",
        "        return False  # False means propagate the exception\n",
        "\n",
        "with MyContext():\n",
        "    print(\"Inside the context\")\n",
        "    # Code to be executed within the context\n",
        "\n",
        "print(\"Outside the context\")\n"
      ],
      "metadata": {
        "colab": {
          "base_uri": "https://localhost:8080/"
        },
        "id": "XQq8LPGqsCM6",
        "outputId": "daad35c9-fe29-4e1f-ba05-d9470c682b78"
      },
      "execution_count": 6,
      "outputs": [
        {
          "output_type": "stream",
          "name": "stdout",
          "text": [
            "Entering the context\n",
            "Inside the context\n",
            "Exiting the context\n",
            "Outside the context\n"
          ]
        }
      ]
    },
    {
      "cell_type": "markdown",
      "source": [
        "**In this example**, we define a custom context manager MyContext by implementing the __enter__() and __exit__() methods. The __enter__() method is called when the context is entered, and the __exit__() method is called when the context is exited. The with statement is used to automatically manage the context, ensuring that resources are properly acquired and released, and allowing for error handling and cleanup operations.\n",
        "\n",
        "Implementing iterators, generators, and context managers provides more fine-grained control over the flow of code execution, improves performance and memory usage, and helps in writing more efficient and robust Python programs."
      ],
      "metadata": {
        "id": "paIQKZ9DsIW5"
      }
    },
    {
      "cell_type": "markdown",
      "source": [
        "# Using decorators and metaclasses to enhance OOP programs\n",
        "\n",
        "Decorators and metaclasses are advanced features in Python that can be used to enhance object-oriented programming (OOP) programs in various ways. Here's an example for each\n",
        "\n",
        "1. **Decorators:**"
      ],
      "metadata": {
        "id": "SVTMf5ZksOGx"
      }
    },
    {
      "cell_type": "code",
      "source": [
        "def log_decorator(func):\n",
        "    def wrapper(*args, **kwargs):\n",
        "        print(f\"Calling function: {func.__name__}\")\n",
        "        return func(*args, **kwargs)\n",
        "    return wrapper\n",
        "\n",
        "@log_decorator\n",
        "def my_function():\n",
        "    print(\"Executing my_function\")\n",
        "\n",
        "my_function()\n"
      ],
      "metadata": {
        "colab": {
          "base_uri": "https://localhost:8080/"
        },
        "id": "Td7siLMgsVrx",
        "outputId": "6da024c6-d881-400e-b487-30aaad907744"
      },
      "execution_count": 7,
      "outputs": [
        {
          "output_type": "stream",
          "name": "stdout",
          "text": [
            "Calling function: my_function\n",
            "Executing my_function\n"
          ]
        }
      ]
    },
    {
      "cell_type": "markdown",
      "source": [
        "**In this example**, we define a decorator log_decorator that adds logging functionality to any function it decorates. The log_decorator takes a function as input and returns a new function (wrapper) that wraps the original function with additional behavior, such as logging in this case. The @ syntax is a shorthand way to apply the decorator to a function, making it more concise and readable."
      ],
      "metadata": {
        "id": "Gdgfupa4sYnv"
      }
    },
    {
      "cell_type": "markdown",
      "source": [
        "2. **Metaclasses:**"
      ],
      "metadata": {
        "id": "aYJUR5t5sgtN"
      }
    },
    {
      "cell_type": "code",
      "source": [
        "class MyMeta(type):\n",
        "    def __new__(cls, name, bases, dct):\n",
        "        print(f\"Creating class: {name}\")\n",
        "        return super().__new__(cls, name, bases, dct)\n",
        "\n",
        "class MyClass(metaclass=MyMeta):\n",
        "    def foo(self):\n",
        "        print(\"Inside foo method\")\n",
        "\n",
        "obj = MyClass()\n"
      ],
      "metadata": {
        "colab": {
          "base_uri": "https://localhost:8080/"
        },
        "id": "OPlQn2KTskIr",
        "outputId": "9788218f-2b8c-459e-bf79-2f35fd5086ff"
      },
      "execution_count": 8,
      "outputs": [
        {
          "output_type": "stream",
          "name": "stdout",
          "text": [
            "Creating class: MyClass\n"
          ]
        }
      ]
    },
    {
      "cell_type": "markdown",
      "source": [
        "**In this example**, we define a metaclass MyMeta by deriving from the built-in type metaclass. The __new__() method of the metaclass is called when a class is created, allowing us to customize the class creation process. In this case, we print a message when a class is created. The MyClass class is then defined with the MyMeta metaclass specified using the metaclass argument, which indicates that MyClass should be created using the MyMeta metaclass. When an object of MyClass is instantiated, the __new__() method of MyMeta is called, and the custom message is printed.\n",
        "\n",
        "Using decorators and metaclasses can add powerful functionalities and behavior to OOP programs, such as logging, validation, code generation, and more, making the programs more extensible and customizable. However, they should be used judiciously and with careful consideration, as they can also make the code more complex and harder to understand if not used appropriately."
      ],
      "metadata": {
        "id": "H4-nqdjxsp4t"
      }
    },
    {
      "cell_type": "markdown",
      "source": [
        "**Lesson 6**: Advanced Python Features for OOP covers advanced topics in object-oriented programming (OOP) in Python. The topics include understanding Python's built-in functions and libraries for OOP, working with modules, packages, and namespaces, implementing iterators, generators, and context managers, and using decorators and metaclasses to enhance OOP programs.\n",
        "\n",
        "**In conclusion**, this lesson delves into more advanced concepts and techniques for writing sophisticated and powerful OOP programs in Python. These features allow developers to leverage Python's flexibility and extensibility to create more complex and customizable solutions. However, it is important to use these advanced features judiciously and with careful consideration, as they may introduce complexity and make the code harder to understand and maintain if not used appropriately. Proper understanding and usage of these advanced features can greatly enhance the capabilities of Python-based OOP programs, making them more robust, scalable, and flexible."
      ],
      "metadata": {
        "id": "KIjLnhyys3w0"
      }
    },
    {
      "cell_type": "code",
      "source": [],
      "metadata": {
        "id": "92yreX87tAYX"
      },
      "execution_count": null,
      "outputs": []
    },
    {
      "cell_type": "markdown",
      "source": [
        "# Rana Mudassar Rasool"
      ],
      "metadata": {
        "id": "T8Jv65uitBX0"
      }
    }
  ]
}