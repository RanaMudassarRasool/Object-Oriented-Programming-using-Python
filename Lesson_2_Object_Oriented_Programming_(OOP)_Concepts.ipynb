{
  "nbformat": 4,
  "nbformat_minor": 0,
  "metadata": {
    "colab": {
      "provenance": [],
      "authorship_tag": "ABX9TyPuT6hSCBnYBcKKTE7coV5q",
      "include_colab_link": true
    },
    "kernelspec": {
      "name": "python3",
      "display_name": "Python 3"
    },
    "language_info": {
      "name": "python"
    }
  },
  "cells": [
    {
      "cell_type": "markdown",
      "metadata": {
        "id": "view-in-github",
        "colab_type": "text"
      },
      "source": [
        "<a href=\"https://colab.research.google.com/github/ranamaddy/Object-Oriented-Programming-using-Python/blob/main/Lesson_2_Object_Oriented_Programming_(OOP)_Concepts.ipynb\" target=\"_parent\"><img src=\"https://colab.research.google.com/assets/colab-badge.svg\" alt=\"Open In Colab\"/></a>"
      ]
    },
    {
      "cell_type": "markdown",
      "source": [
        "# Lesson 2: Object-Oriented Programming (OOP) Concepts\n",
        "\n",
        "- Understanding the core concepts of OOP: classes, objects, methods, and attributes\n",
        "- Encapsulation, inheritance, and polymorphism\n",
        "- Differences between procedural and OOP paradigms\n",
        "- Writing a class and creating objects in Python"
      ],
      "metadata": {
        "id": "cCNSmjB9WXIN"
      }
    },
    {
      "cell_type": "markdown",
      "source": [
        "**Lesson 2, we will cover the fundamental concepts of Object-Oriented Programming (OOP) using Python. Here's what we'll cove**r:\n",
        "\n",
        "**Overview of OOP Paradigm:** We will introduce the concept of OOP as a programming paradigm that focuses on organizing code into classes and objects. We will discuss the benefits of using OOP, including code reusability, modularity, and maintainability.\n",
        "\n",
        "**Understanding Classes, Objects, and Instances**: We will explain the concept of a class as a blueprint for creating objects, and objects as instances of a class. We will discuss how to define classes in Python, including defining class attributes and methods.\n",
        "\n",
        "**Encapsulation and Data Hiding**: We will cover the principles of encapsulation and data hiding in OOP, which involve hiding internal implementation details of a class and exposing only necessary information. We will discuss how to use access modifiers in Python to control the visibility and accessibility of class attributes and methods.\n",
        "\n",
        "**Inheritance and Polymorphism:** We will explain the concepts of inheritance and polymorphism in OOP, which allow classes to inherit properties and methods from parent classes, and enable objects of different classes to be treated interchangeably. We will discuss how to create and use inheritance and polymorphism in Python.\n",
        "\n",
        "**Creating and Using Classes in Python:** We will demonstrate how to create classes in Python, including defining class attributes, methods, and constructors. We will also cover topics such as class inheritance, method overriding, and method overloading in Python.\n",
        "\n",
        "**Using OOP Concepts in Python Programs:** We will discuss how to use OOP concepts in practical Python programs, including creating and using objects of custom classes, using built-in classes and modules in Python's standard library, and designing object-oriented solutions to real-world problems.\n",
        "\n",
        "Throughout this lesson, we will provide examples and practice exercises to help you understand the concepts of OOP in Python. We will also discuss best practices for designing and implementing object-oriented programs using Python's OOP features. Let's dive into the exciting world of OOP in Python!"
      ],
      "metadata": {
        "id": "-QD7x-hCW-0a"
      }
    },
    {
      "cell_type": "markdown",
      "source": [
        "we will provide an **overview of Object-Oriented Programming (OOP)** as a programming paradigm. OOP focuses on organizing code into classes and objects, which are instances of those classes. We will discuss the benefits of using OOP in programming, which include code reusability, modularity, and maintainability.\n",
        "\n",
        "**Code reusability:** With OOP, we can create classes that encapsulate common functionalities and behaviors. These classes can be reused in different parts of a program or in different programs altogether, saving time and effort in coding.\n",
        "\n",
        "**Modularity:** OOP allows us to break down complex systems into smaller, more manageable modules represented by classes. Each class can have its own attributes and methods, making it easier to understand and maintain the code.\n",
        "\n",
        "**Maintainability**: OOP promotes the use of encapsulation, which hides internal implementation details of a class and provides a clean interface for interacting with objects. This makes it easier to modify and maintain the code without affecting the entire system.\n",
        "\n",
        "By using OOP, we can create more organized, modular, and maintainable code, which can lead to improved productivity and quality in software development."
      ],
      "metadata": {
        "id": "pe0MHJaqXcFW"
      }
    },
    {
      "cell_type": "markdown",
      "source": [
        "we will explain the **concept of classes, objects**, and instances in Python.\n",
        "\n",
        "**A class **is a blueprint or template that defines a structure for creating objects. It contains attributes, which are characteristics or properties, and methods, which are functions that can be called on objects of that class.\n",
        "\n",
        "**An object**, also known as an instance, is a specific occurrence or instantiation of a class. It is created based on the blueprint provided by the class and represents a unique entity with its own set of attributes and methods.\n",
        "\n",
        "In Python, we can define a **class using the class keyword**, followed by the class name. We can then define class attributes, which are variables that store data specific to the class, and class methods, which are functions that can be called on objects of that class. Here's an example:"
      ],
      "metadata": {
        "id": "6O3QrRX3X2BF"
      }
    },
    {
      "cell_type": "code",
      "execution_count": 1,
      "metadata": {
        "colab": {
          "base_uri": "https://localhost:8080/"
        },
        "id": "uiniOMFVV9J5",
        "outputId": "e32e292d-a7fc-4d26-95ce-d5228976370b"
      },
      "outputs": [
        {
          "output_type": "stream",
          "name": "stdout",
          "text": [
            "Canine\n",
            "Woof!\n"
          ]
        }
      ],
      "source": [
        "class Dog:\n",
        "    # Class attribute\n",
        "    species = 'Canine'\n",
        "\n",
        "    # Class method\n",
        "    def bark(self):\n",
        "        print(\"Woof!\")\n",
        "\n",
        "# Creating objects/instances of the Dog class\n",
        "dog1 = Dog()\n",
        "dog2 = Dog()\n",
        "\n",
        "# Accessing class attribute\n",
        "print(dog1.species)  # Output: Canine\n",
        "\n",
        "# Calling class method\n",
        "dog1.bark()  # Output: Woof!\n"
      ]
    },
    {
      "cell_type": "markdown",
      "source": [
        "In this example, we define a Dog class with a class attribute species and a class method **bark()**. We then create two **objects dog1 and dog2 **of the **Dog class** and access the class attribute and call the class method on those objects.\n",
        "\n",
        "Understanding classes, objects, and instances is fundamental to understanding the concept of OOP in Python, as they form the basis for creating and using objects in a program."
      ],
      "metadata": {
        "id": "6OusZIZ2YhLP"
      }
    },
    {
      "cell_type": "markdown",
      "source": [
        " In this part of the lesson, we will cover the principles of **encapsulation and data hiding in Object-Oriented Programming (OOP) using Python**.\n",
        "\n",
        "Encapsulation is a principle that involves bundling the data (attributes) and methods (functions) that operate on the data into a single unit called a class. This helps in organizing and structuring code, making it more modular and maintainable.\n",
        "\n",
        "**Data hiding is a concept** that allows the internal implementation details of a class to be hidden from the external world. In Python, we can achieve data hiding using access modifiers, which control the visibility and accessibility of class attributes and methods. There are three main access modifiers in Python:\n",
        "\n",
        "**Public:** Class attributes and methods declared as public are accessible from anywhere, both within and outside the class.\n",
        "\n",
        "**Private:** Class attributes and methods declared as private are only accessible within the class itself. They cannot be accessed from outside the class.\n",
        "\n",
        "**Protected**: Class attributes and methods declared as protected are accessible within the class itself and its subclasses (i.e., classes that inherit from the parent class).\n",
        "\n",
        "In Python, we can use underscores to indicate the access level of attributes and methods:\n",
        "\n",
        "**Single underscore prefix (_): This indicates a protected attribute or method.**\n",
        "\n",
        "**Double underscore prefix (__): This indicates a private attribute or method**."
      ],
      "metadata": {
        "id": "0BJd_nE6ZERe"
      }
    },
    {
      "cell_type": "code",
      "source": [
        "class BankAccount:\n",
        "    def __init__(self, account_number, balance):\n",
        "        self._account_number = account_number  # Protected attribute\n",
        "        self.__balance = balance  # Private attribute\n",
        "\n",
        "    def deposit(self, amount):\n",
        "        self.__balance += amount\n",
        "\n",
        "    def withdraw(self, amount):\n",
        "        if amount <= self.__balance:\n",
        "            self.__balance -= amount\n",
        "        else:\n",
        "            print(\"Insufficient balance\")\n",
        "\n",
        "    def get_balance(self):\n",
        "        return self.__balance\n",
        "\n",
        "# Creating object of BankAccount class\n",
        "account = BankAccount(\"123456789\", 1000)\n",
        "\n",
        "# Accessing protected attribute\n",
        "print(account._account_number)  # Output: 123456789\n",
        "\n",
        "# Accessing private attribute (raises AttributeError)\n",
        "# print(account.__balance)  # Raises AttributeError\n",
        "\n",
        "# Accessing private attribute using name mangling\n",
        "print(account._BankAccount__balance)  # Output: 1000\n",
        "\n",
        "# Calling methods\n",
        "account.deposit(500)\n",
        "print(account.get_balance())  # Output: 1500\n"
      ],
      "metadata": {
        "colab": {
          "base_uri": "https://localhost:8080/"
        },
        "id": "zC9fGc8mZXcA",
        "outputId": "defede5e-9d05-4bf3-949d-cd07304ba9dc"
      },
      "execution_count": 2,
      "outputs": [
        {
          "output_type": "stream",
          "name": "stdout",
          "text": [
            "123456789\n",
            "1000\n",
            "1500\n"
          ]
        }
      ]
    },
    {
      "cell_type": "markdown",
      "source": [
        "In this part of the lesson, we will cover the **concepts of inheritance and polymorphism in Object-Oriented Programming (OOP) using Python**.\n",
        "\n",
        "\n",
        "Inheritance is a mechanism that allows a class to **inherit properties and methods from a parent class**. The parent class is also known as the **base class or superclass**, and the class that inherits from the parent class is known as the **derived class or subclass**. Inheritance promotes code reuse, as the derived class can inherit and reuse the attributes and methods of the parent class without having to redefine them.\n",
        "\n",
        "\n",
        "Polymorphism is a concept that allows objects of different classes to be treated interchangeably, as long as they implement the same methods or have the same attributes. Polymorphism promotes flexibility in code, as it allows objects of different classes to be used in a uniform manner, making code more extensible and adaptable.\n",
        "\n",
        "In Python, we can create and use inheritance and polymorphism as follows:"
      ],
      "metadata": {
        "id": "BLBun_J1Zv9Z"
      }
    },
    {
      "cell_type": "code",
      "source": [
        "# Parent class\n",
        "class Animal:\n",
        "    def __init__(self, name):\n",
        "        self.name = name\n",
        "\n",
        "    def speak(self):\n",
        "        return \"Animal speaks\"\n",
        "\n",
        "# Derived class inheriting from Animal\n",
        "class Dog(Animal):\n",
        "    def speak(self):\n",
        "        return \"Dog barks\"\n",
        "\n",
        "# Derived class inheriting from Animal\n",
        "class Cat(Animal):\n",
        "    def speak(self):\n",
        "        return \"Cat meows\"\n",
        "\n",
        "# Creating objects of derived classes\n",
        "dog = Dog(\"Buddy\")\n",
        "cat = Cat(\"Fluffy\")\n",
        "\n",
        "# Accessing attributes of parent class\n",
        "print(dog.name)  # Output: Buddy\n",
        "\n",
        "# Calling methods of derived classes\n",
        "print(dog.speak())  # Output: Dog barks\n",
        "print(cat.speak())  # Output: Cat meows\n",
        "\n",
        "# Polymorphism - Treating objects of different classes interchangeably\n",
        "def make_speak(animal):\n",
        "    print(animal.speak())\n",
        "\n",
        "make_speak(dog)  # Output: Dog barks\n",
        "make_speak(cat)  # Output: Cat meows\n"
      ],
      "metadata": {
        "colab": {
          "base_uri": "https://localhost:8080/"
        },
        "id": "fS_lxo_0aHc-",
        "outputId": "16cd9be2-1680-4e9a-d0e8-e9dd1996f947"
      },
      "execution_count": 3,
      "outputs": [
        {
          "output_type": "stream",
          "name": "stdout",
          "text": [
            "Buddy\n",
            "Dog barks\n",
            "Cat meows\n",
            "Dog barks\n",
            "Cat meows\n"
          ]
        }
      ]
    },
    {
      "cell_type": "markdown",
      "source": [
        "In this example, we define a parent class Animal with an attribute name and a method **speak()**. We then create two derived classes Dog and Cat that inherit from the Animal class, and override the **speak()** method in each **derived class**. We create objects dog and cat of the **Dog and Cat** classes, respectively, and access the attributes and call the methods of the derived classes. Finally, we demonstrate polymorphism by passing objects of different classes to a function  **make_speak()** that treats them interchangeably based on the common method  **speak()**"
      ],
      "metadata": {
        "id": "KJBir7agaRfA"
      }
    },
    {
      "cell_type": "markdown",
      "source": [
        "# Creating and Using Classes in Python:\n",
        "\n",
        "In this part of the lesson, we will cover the creation and usage of classes in Python, including defining class attributes, methods, and constructors. We will also discuss class inheritance, method overriding, and method overloading in Python.\n",
        "\n",
        "**Creating a Class in Python:**\n",
        "\n",
        "In Python, we can create a class using the class keyword followed by the name of the class. We can define class attributes, which are shared by all instances of the class, using class-level variables. Class methods, which are associated with the class and not the instance of the class, can be defined using the @classmethod **decorator**. Instance methods, which are associated with the instance of the class, can be defined using the self parameter"
      ],
      "metadata": {
        "id": "bLDFfBZuaxR8"
      }
    },
    {
      "cell_type": "code",
      "source": [
        "# Creating a class\n",
        "class Car:\n",
        "    # Class-level attribute\n",
        "    num_wheels = 4\n",
        "\n",
        "    # Constructor\n",
        "    def __init__(self, make, model):\n",
        "        # Instance attributes\n",
        "        self.make = make\n",
        "        self.model = model\n",
        "\n",
        "    # Instance method\n",
        "    def drive(self):\n",
        "        return f\"{self.make} {self.model} is driving\"\n",
        "\n",
        "    # Class method\n",
        "    @classmethod\n",
        "    def honk(cls):\n",
        "        return f\"{cls.num_wheels}-wheeler is honking\"\n",
        "\n",
        "# Creating objects of the Car class\n",
        "car1 = Car(\"Toyota\", \"Camry\")\n",
        "car2 = Car(\"Honda\", \"Accord\")\n",
        "\n",
        "# Accessing attributes and calling methods\n",
        "print(car1.make)        # Output: Toyota\n",
        "print(car2.drive())     # Output: Honda Accord is driving\n",
        "print(Car.honk())       # Output: 4-wheeler is honking\n"
      ],
      "metadata": {
        "colab": {
          "base_uri": "https://localhost:8080/"
        },
        "id": "dkE7w8ewbYkn",
        "outputId": "36caf889-0e71-4e61-ab28-375ff5654d4c"
      },
      "execution_count": 4,
      "outputs": [
        {
          "output_type": "stream",
          "name": "stdout",
          "text": [
            "Toyota\n",
            "Honda Accord is driving\n",
            "4-wheeler is honking\n"
          ]
        }
      ]
    },
    {
      "cell_type": "markdown",
      "source": [
        "# Differences between procedural and OOP paradigms\n",
        "\n",
        "Here are some key differences between the procedural programming paradigm and the object-oriented programming (OOP) paradigm:\n",
        "\n",
        "**Organization of code:** In procedural programming, code is organized around procedures or functions that operate on data. In OOP, code is organized around classes and objects, which encapsulate both data (attributes) and behavior (methods).\n",
        "\n",
        "**Data and behavior:** In procedural programming, data and behavior are often separate, with data stored in global variables and behavior implemented as functions that manipulate the data. In OOP, data and behavior are encapsulated within objects, allowing for better organization and encapsulation of code.\n",
        "\n",
        "**Code reusability:** OOP promotes code reusability through concepts like inheritance, where classes can inherit attributes and methods from parent classes. Procedural programming does not typically provide built-in mechanisms for code reusability.\n",
        "\n",
        "**Modularity and maintainability:** OOP allows for modular and maintainable code through encapsulation, where implementation details are hidden and only necessary information is exposed. Procedural programming may not provide the same level of modularity and maintainability.\n",
        "\n",
        "**Polymorphism:** OOP allows for polymorphism, which means that objects of different classes can be treated interchangeably if they implement the same methods. Procedural programming does not inherently support polymorphism.\n",
        "\n",
        "**Code organization and readability:** OOP promotes a clear and organized structure of code through classes, objects, and methods, which can improve code readability and maintainability. Procedural programming may rely more on global variables and functions, which can make code harder to understand and maintain.\n",
        "\n",
        "**Scope and visibility:** OOP provides mechanisms for controlling the scope and visibility of class attributes and methods through access modifiers, allowing for better encapsulation and data hiding. Procedural programming may not have the same level of control over scope and visibility.\n",
        "\n",
        "Overall, OOP provides a different approach to organizing and structuring code compared to procedural programming, with an emphasis on encapsulation, inheritance, polymorphism, and code reusability."
      ],
      "metadata": {
        "id": "NA7b3LVXco4q"
      }
    }
  ]
}